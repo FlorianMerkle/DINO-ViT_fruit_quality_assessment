{
 "cells": [
  {
   "cell_type": "code",
   "execution_count": null,
   "id": "c9d4f229-493b-41cd-a219-9e7a7f7bd095",
   "metadata": {},
   "outputs": [],
   "source": [
    "import warnings\n",
    "warnings.filterwarnings(\"ignore\", category=UserWarning)\n",
    "import pandas as pd\n",
    "import numpy as np\n",
    "import torch\n",
    "from torch import nn\n",
    "import torch.nn.functional as F\n",
    "import torch.optim as optim\n",
    "import torchvision.transforms.functional as TF\n",
    "import foolbox as fb\n",
    "from foolbox.criteria import Misclassification\n",
    "from sklearn.metrics import precision_recall_fscore_support\n",
    "from sklearn.neural_network import MLPClassifier\n",
    "from sklearn.linear_model import LogisticRegression\n",
    "from dino_experiments.util import get_embeddings, get_seeded_data_loader, Logger, AVAILABLE_DATASETS\n",
    "from skorch import NeuralNetClassifier\n",
    "\n",
    "from my_utils import _fit, _evaluate_model\n",
    "\n",
    "from time import time\n",
    "\n",
    "GLOBAL_SEED = 1\n",
    "RESIZE = True\n",
    "BATCH_SIZE = 8\n",
    "TEST_SAMPLE_SIZE = VAL_SAMPLE_SIZE = TRAIN_SAMPLE_SIZE = -1\n",
    "device = 'cuda' if torch.cuda.is_available() else 'cpu'\n",
    "#device = 'cpu'\n",
    "dataset = 'fayoum'\n",
    "\n"
   ]
  },
  {
   "cell_type": "code",
   "execution_count": null,
   "id": "256f67da-ced0-4b3b-a88e-1f9b52ea0e4e",
   "metadata": {
    "scrolled": true
   },
   "outputs": [],
   "source": [
    "def evaluate_advs(transformer,advs, clf):\n",
    "    normalize_values = ((0.6237, 0.6076, 0.5367), (0.1759, 0.1925, 0.3011))\n",
    "    normalized_advs = TF.normalize(advs, mean =normalize_values[0], std=normalize_values[1])\n",
    "    test_loader = get_seeded_data_loader(dataset, \"test\", GLOBAL_SEED, resize=RESIZE, batch_size=len(normalized_advs), normalize=False)\n",
    "    benign_labels = next(iter(test_loader))[1]\n",
    "    adv_test_dataset = torch.utils.data.TensorDataset(normalized_advs, benign_labels)\n",
    "    adv_test_dataloader = torch.utils.data.DataLoader(adv_test_dataset, batch_size=10)\n",
    "    adv_embeddings, ys = get_embeddings(transformer, adv_test_dataloader,TEST_SAMPLE_SIZE)\n",
    "    acc = clf.score(adv_embeddings, ys)\n",
    "    return acc\n",
    "\n",
    "def get_torch_classifier():\n",
    "    #m = torch.load('/home/florian/dev/DINO-ViT_fruit_quality_assessment/saved-models/torch-classifier.pkl')\n",
    "    try:\n",
    "        m = torch.load('/home/florian/dev/DINO-ViT_fruit_quality_assessment/saved-models/torch-classifier.pkl')\n",
    "    except:\n",
    "        print('no model to load found')\n",
    "        train_loader = get_seeded_data_loader(dataset, \"train\", GLOBAL_SEED, resize=RESIZE, batch_size=BATCH_SIZE)\n",
    "        val_loader = get_seeded_data_loader(dataset, \"val\", GLOBAL_SEED, resize=RESIZE, batch_size=BATCH_SIZE)\n",
    "        transformer = torch.hub.load('facebookresearch/dino:main', 'dino_vits8', verbose=False).to(device)\n",
    "        m = DinoClassifier(transformer, 384, 4).cuda()\n",
    "        for param in m.feature_extractor.parameters():\n",
    "            param.requires_grad = False\n",
    "        _fit(m, train_loader, val_loader, 25, device)\n",
    "    test_loader = get_seeded_data_loader(dataset, \"test\", GLOBAL_SEED, resize=RESIZE, batch_size=BATCH_SIZE)\n",
    "    criterion = nn.CrossEntropyLoss()\n",
    "    torch.save(m, '/home/florian/dev/DINO-ViT_fruit_quality_assessment/saved-models/torch-classifier.pkl')\n",
    "    accuracy, loss = _evaluate_model(m, test_loader, device, criterion)\n",
    "    print('test acc:', accuracy,', test loss:' ,loss)\n",
    "    return m,accuracy\n",
    "\n",
    "def get_skorch_classifier_acc():\n",
    "    test_loader = get_seeded_data_loader(dataset, \"test\", GLOBAL_SEED, resize=RESIZE, batch_size=60)\n",
    "    train_loader = get_seeded_data_loader(dataset, \"train\", GLOBAL_SEED, resize=RESIZE, batch_size=176)\n",
    "    val_loader = get_seeded_data_loader(dataset, \"val\", GLOBAL_SEED, resize=RESIZE, batch_size=60)\n",
    "    X_train_only,y_train_only = next(iter(train_loader))\n",
    "    X_val,y_val = next(iter(val_loader))\n",
    "    X_train, y_train = np.concatenate((X_train_only, X_val)), np.concatenate((y_train_only, y_val))\n",
    "    \n",
    "    transformer = torch.hub.load('facebookresearch/dino:main', 'dino_vits8', verbose=False).to(device)\n",
    "    m = DinoClassifier(transformer, 384, 4)\n",
    "    for param in m.feature_extractor.parameters():\n",
    "        param.requires_grad = False\n",
    "    net = NeuralNetClassifier(\n",
    "        m,\n",
    "        max_epochs=30,\n",
    "        criterion=nn.CrossEntropyLoss(),\n",
    "        optimizer=optim.Adam,\n",
    "        batch_size=8,\n",
    "    )\n",
    "    \n",
    "    net.fit(X_train, y_train)\n",
    "    test_loader = get_seeded_data_loader(dataset, \"test\", GLOBAL_SEED, resize=RESIZE, batch_size=7*8)\n",
    "    X_test, y_test = next(iter(test_loader))\n",
    "    acc = net.score(X_test, y_test)\n",
    "    print(acc)\n",
    "    return acc\n",
    "\n",
    "def get_original_classifier():\n",
    "    transformer = torch.hub.load('facebookresearch/dino:main', 'dino_vits8', verbose=False)\n",
    "    transformer.to(device)\n",
    "    \n",
    "    test_loader = get_seeded_data_loader(dataset, \"test\", GLOBAL_SEED, resize=RESIZE, batch_size=BATCH_SIZE)\n",
    "    X_test, y_test = get_embeddings(transformer, test_loader, TEST_SAMPLE_SIZE, batch_size=BATCH_SIZE)\n",
    "    \n",
    "    train_loader = get_seeded_data_loader(dataset, \"train\", GLOBAL_SEED, batch_size=BATCH_SIZE, resize=RESIZE)\n",
    "    X_train, y_train = get_embeddings(transformer, train_loader, TRAIN_SAMPLE_SIZE, batch_size=BATCH_SIZE)\n",
    "    \n",
    "    clf = MLPClassifier(random_state=GLOBAL_SEED, max_iter=10000)\n",
    "    clf.fit(X_train, y_train)\n",
    "    preds = clf.predict(X_test)\n",
    "    acc = clf.score(X_test, y_test)\n",
    "    \n",
    "    return clf, acc\n",
    "\n",
    "\n",
    "def get_adversarial_robustness(m, attack,eps, confidence=.02):\n",
    "    test_loader = get_seeded_data_loader(dataset, \"test\", GLOBAL_SEED, resize=RESIZE, batch_size=4, normalize=False)\n",
    "    \n",
    "    m.eval()\n",
    "    preprocessing = dict(mean=(0.6237, 0.6076, 0.5367), std=(0.1759, 0.1925, 0.3011), axis=-3)\n",
    "    bounds = (0, 1)\n",
    "    fmodel = fb.PyTorchModel(m, bounds=bounds,preprocessing=preprocessing)\n",
    "    successful_advs = 0\n",
    "    total_advs = 0\n",
    "    advs = np.empty((0,3,224,224))\n",
    "    if attack == 'PGD': att = fb.attacks.PGD()\n",
    "    if attack == 'FGSM': att = fb.attacks.FGSM()\n",
    "    if attack == 'CW': att = fb.attacks.L2CarliniWagnerAttack(confidence=confidence, binary_search_steps=5, steps=100, initial_const=1)\n",
    "    if attack == 'DF': att = fb.attacks.L2DeepFoolAttack(overshoot=confidence)\n",
    "    if attack == 'BB0': att = fb.attacks.L0BrendelBethgeAttack(init_attack=fb.attacks.LinearSearchBlendedUniformNoiseAttack(),binary_search_steps=10, steps=2)\n",
    "    for x_batch, y_batch in test_loader:\n",
    "    #x_batch, y_batch = next(iter(test_loader))\n",
    "        t0=time()\n",
    "        x_batch, y_batch = x_batch.to(device), y_batch.to(device)\n",
    "        raw, clipped, is_adv = att(\n",
    "                fmodel,\n",
    "                x_batch,\n",
    "                criterion=fb.criteria.Misclassification(y_batch),\n",
    "                epsilons=eps\n",
    "            )\n",
    "        #advs = np.concatenate((advs, clipped.cpu()))\n",
    "        total_advs += len(is_adv)\n",
    "        successful_advs += is_adv.sum()\n",
    "        print('ASR:',(successful_advs/total_advs).item())\n",
    "        print('time per batch:',time()-t0)\n",
    "    return 1-successful_advs/total_advs, clipped.cpu().numpy()\n",
    "    \n",
    "\n",
    "\n",
    "class DinoClassifier(nn.Module):\n",
    "    def __init__(self, feature_extractor, num_features,num_classes):\n",
    "        super().__init__()\n",
    "        self.feature_extractor = feature_extractor\n",
    "        self.classifier = nn.Linear(num_features, num_classes)\n",
    "        self.train_stats=np.array([])\n",
    "    def forward(self, inputs):\n",
    "        x = F.relu(self.feature_extractor(inputs))\n",
    "        return self.classifier(x)\n",
    "\n",
    "def pipeline():\n",
    "    \n",
    "    m,_ = get_torch_classifier()\n",
    "    clf,_ = get_original_classifier()\n",
    "    transformer = torch.hub.load('facebookresearch/dino:main', 'dino_vits8', verbose=False).to(device)\n",
    "    for attack in ['FGSM', 'PGD', 'CW', 'DF', 'BB0']:\n",
    "        if attack in ['FGSM', 'PGD']:epsilons=[0,.125,.25,.5,1,2,4,8]\n",
    "        if attack == 'BB0': epsilons = [0,50,100,200,500,1000]\n",
    "        if attack in ['CW', 'DF']: epsilons = [0,1,2,5,10,20,50,100]\n",
    "        for eps in epsilons:\n",
    "            if attack == 'CW': confidences = [.0,.1,.2,.4,.6]\n",
    "            if attack == 'DF': confidences = [.02,.04,.08,.2,.4]\n",
    "            if attack == 'BB0': confidences = [1.1, 1.3,1.5,2]\n",
    "            if attack == 'PGD' or attack == 'FGSM': confidences = [None]\n",
    "            for confidence in confidences:\n",
    "                df = pd.DataFrame(\n",
    "                    data=[[None, None]],\n",
    "                    index=[f'{attack}-{eps}-{confidence}'],\n",
    "                    columns=[\"rob\",\"transfer-rob\"],\n",
    "                    dtype=float,\n",
    "                )\n",
    "                robustness, advs = get_adversarial_robustness(m, attack , eps, confidence)\n",
    "                advs = torch.from_numpy(advs).float()\n",
    "                torch.save(advs, f'./adversarial-examples/{attack}-{eps}-{confidence}.pkl')\n",
    "                transfer_robustness = evaluate_advs(transformer, advs, clf)\n",
    "                df['rob'] = robustness.item()\n",
    "                df['transfer-rob'] = transfer_robustness\n",
    "                print(df)\n",
    "                df.to_csv(f'./evaluation/{attack}-{eps}-{confidence}.csv')\n",
    "pipeline()"
   ]
  },
  {
   "cell_type": "code",
   "execution_count": null,
   "id": "95cf502d-2688-4c2c-9cbc-0f25a1233870",
   "metadata": {},
   "outputs": [],
   "source": []
  },
  {
   "cell_type": "code",
   "execution_count": null,
   "id": "ca5370dc-319d-4e24-a06a-0971c58c7840",
   "metadata": {},
   "outputs": [],
   "source": []
  },
  {
   "cell_type": "code",
   "execution_count": null,
   "id": "a8d0bf21-4345-4d0e-9ccf-49b2489135ca",
   "metadata": {},
   "outputs": [],
   "source": []
  },
  {
   "cell_type": "code",
   "execution_count": null,
   "id": "6c2ea2fd-a773-4770-8a06-3c46732422fe",
   "metadata": {},
   "outputs": [],
   "source": []
  },
  {
   "cell_type": "code",
   "execution_count": null,
   "id": "542e7e27-f94b-4f3e-98e4-7a3a9fe8912c",
   "metadata": {},
   "outputs": [],
   "source": []
  },
  {
   "cell_type": "code",
   "execution_count": null,
   "id": "28b26d69-7984-4860-9689-679afb0ef9c8",
   "metadata": {},
   "outputs": [],
   "source": []
  },
  {
   "cell_type": "code",
   "execution_count": 74,
   "id": "d69be6db-c31e-49f7-8094-906cb0ef7c63",
   "metadata": {},
   "outputs": [
    {
     "name": "stdout",
     "output_type": "stream",
     "text": [
      "Splitting train and test data.\n",
      "Splitting train and val data.\n"
     ]
    }
   ],
   "source": [
    "test_loader = get_seeded_data_loader(dataset, \"test\", GLOBAL_SEED, resize=RESIZE, batch_size=4, normalize=False)\n",
    "x, y = next(iter(test_loader))"
   ]
  },
  {
   "cell_type": "code",
   "execution_count": 75,
   "id": "647842b2-f43f-4f5b-bbec-989a6aad4f20",
   "metadata": {
    "scrolled": true
   },
   "outputs": [
    {
     "data": {
      "text/plain": [
       "616"
      ]
     },
     "execution_count": 75,
     "metadata": {},
     "output_type": "execute_result"
    }
   ],
   "source": [
    "np.count_nonzero((output[1][0].cpu().numpy()-x.numpy()))"
   ]
  },
  {
   "cell_type": "code",
   "execution_count": 76,
   "id": "428f0b6a-fde8-4a7a-be31-67f85944839f",
   "metadata": {},
   "outputs": [],
   "source": [
    "import matplotlib.pyplot as plt"
   ]
  },
  {
   "cell_type": "code",
   "execution_count": 77,
   "id": "17d93968-915c-449b-8b87-aa4b22c3734c",
   "metadata": {},
   "outputs": [
    {
     "data": {
      "text/plain": [
       "<matplotlib.image.AxesImage at 0x7f923adf1e10>"
      ]
     },
     "execution_count": 77,
     "metadata": {},
     "output_type": "execute_result"
    },
    {
     "data": {
      "image/png": "[encoded data removed]",
      "text/plain": [
       "<Figure size 640x480 with 1 Axes>"
      ]
     },
     "metadata": {},
     "output_type": "display_data"
    }
   ],
   "source": [
    "img1 = np.transpose(x[0], (1, 2, 0))\n",
    "img2 = np.transpose(output[1][0].cpu().numpy()[0], (1, 2, 0))\n",
    "plt.imshow(img2)"
   ]
  },
  {
   "cell_type": "code",
   "execution_count": 78,
   "id": "bb6f948e-9e6f-4f37-9e9f-6b0b302523e2",
   "metadata": {},
   "outputs": [
    {
     "data": {
      "text/plain": [
       "<matplotlib.image.AxesImage at 0x7f923ac3bdc0>"
      ]
     },
     "execution_count": 78,
     "metadata": {},
     "output_type": "execute_result"
    },
    {
     "data": {
      "image/png": "[encoded data removed]",
      "text/plain": [
       "<Figure size 640x480 with 1 Axes>"
      ]
     },
     "metadata": {},
     "output_type": "display_data"
    }
   ],
   "source": [
    "plt.imshow(img1)"
   ]
  },
  {
   "cell_type": "code",
   "execution_count": 3,
   "id": "776433ca-0bee-4c39-9e98-3a1388190c3b",
   "metadata": {},
   "outputs": [],
   "source": [
    "def pipeline():\n",
    "    \n",
    "    _, m = get_torch_classifier_acc()\n",
    "    _, clf = get_original_classifier_acc()\n",
    "    \n",
    "    for attack in ['FGSM', 'PGD', 'CW', 'DF', 'BB0']:\n",
    "        if attack in ['FGSM', 'PGD']:epsilons=[.125,.25,.5,1,2,4,8]/255\n",
    "        if attack == 'BB0': epsilons = [50,100,200,500,1000]\n",
    "        if attack in ['CW', 'DF']: epsilons = [1,2,5,10,20,50,100]\n",
    "        for eps in epsilons:\n",
    "            if attack == 'CW': confidences = [.0,.1,.2,.4,.6]\n",
    "            if attack == 'DF': confidences = [.02,.04,.08,.2,.4]\n",
    "            if attack == 'BB0': confidences = [1.1, 1.3,1.5,2]\n",
    "            if attack == 'PGD' or attack == 'FGSM': confidences = [None]\n",
    "            for confidence in confidences:\n",
    "                df = pd.DataFrame(\n",
    "                    data=[[None, None]],\n",
    "                    index=[f'{attack}-{eps}-{confidence}'],\n",
    "                    columns=[\"rob\",\"transfer-rob\"],\n",
    "                    dtype=float,\n",
    "                )\n",
    "                robustness, advs = get_adversarial_robustness(m, attack , eps, confidence)\n",
    "                advs = torch.from_numpy(advs).float()\n",
    "                #torch.save(advs, f'./adversarial-examples/{attack}-{eps}-{confidence}.pkl')\n",
    "                transfer_robustness = evaluate_advs(advs)\n",
    "                df['rob'] = robustness.item()\n",
    "                df['transfer-rob'] = transfer_robustness\n",
    "                print(df)\n",
    "                #df.to_csv(f'./evaluation/{attack}-{eps}-{confidence}.csv')\n",
    "            "
   ]
  },
  {
   "cell_type": "code",
   "execution_count": 10,
   "id": "72798092-52a8-4713-92de-a5d552ced746",
   "metadata": {},
   "outputs": [
    {
     "name": "stdout",
     "output_type": "stream",
     "text": [
      "normalize values ((0.6237, 0.6076, 0.5367), (0.1759, 0.1925, 0.3011))\n",
      "Splitting train and test data.\n",
      "Splitting train and val data.\n",
      "test acc: 96.29629629629629 , test loss: 0.13909855538180896\n",
      "normalize values ((0.6237, 0.6076, 0.5367), (0.1759, 0.1925, 0.3011))\n",
      "Splitting train and test data.\n",
      "Splitting train and val data.\n",
      "normalize values ((0.6237, 0.6076, 0.5367), (0.1759, 0.1925, 0.3011))\n",
      "Splitting train and test data.\n",
      "Splitting train and val data.\n"
     ]
    },
    {
     "ename": "KeyboardInterrupt",
     "evalue": "",
     "output_type": "error",
     "traceback": [
      "\u001b[0;31m---------------------------------------------------------------------------\u001b[0m",
      "\u001b[0;31mKeyboardInterrupt\u001b[0m                         Traceback (most recent call last)",
      "Cell \u001b[0;32mIn[10], line 1\u001b[0m\n\u001b[0;32m----> 1\u001b[0m \u001b[43mpipeline\u001b[49m\u001b[43m(\u001b[49m\u001b[43m)\u001b[49m\n",
      "Cell \u001b[0;32mIn[2], line 4\u001b[0m, in \u001b[0;36mpipeline\u001b[0;34m()\u001b[0m\n\u001b[1;32m      1\u001b[0m \u001b[38;5;28;01mdef\u001b[39;00m \u001b[38;5;21mpipeline\u001b[39m():\n\u001b[1;32m      3\u001b[0m     _, m \u001b[38;5;241m=\u001b[39m get_torch_classifier_acc()\n\u001b[0;32m----> 4\u001b[0m     _, clf \u001b[38;5;241m=\u001b[39m \u001b[43mget_original_classifier_acc\u001b[49m\u001b[43m(\u001b[49m\u001b[43m)\u001b[49m\n\u001b[1;32m      6\u001b[0m     \u001b[38;5;28;01mfor\u001b[39;00m attack \u001b[38;5;129;01min\u001b[39;00m [\u001b[38;5;124m'\u001b[39m\u001b[38;5;124mFGSM\u001b[39m\u001b[38;5;124m'\u001b[39m, \u001b[38;5;124m'\u001b[39m\u001b[38;5;124mPGD\u001b[39m\u001b[38;5;124m'\u001b[39m, \u001b[38;5;124m'\u001b[39m\u001b[38;5;124mCW\u001b[39m\u001b[38;5;124m'\u001b[39m, \u001b[38;5;124m'\u001b[39m\u001b[38;5;124mDF\u001b[39m\u001b[38;5;124m'\u001b[39m, \u001b[38;5;124m'\u001b[39m\u001b[38;5;124mBB0\u001b[39m\u001b[38;5;124m'\u001b[39m]:\n\u001b[1;32m      7\u001b[0m         \u001b[38;5;28;01mif\u001b[39;00m attack \u001b[38;5;129;01min\u001b[39;00m [\u001b[38;5;124m'\u001b[39m\u001b[38;5;124mFGSM\u001b[39m\u001b[38;5;124m'\u001b[39m, \u001b[38;5;124m'\u001b[39m\u001b[38;5;124mPGD\u001b[39m\u001b[38;5;124m'\u001b[39m]:epsilons\u001b[38;5;241m=\u001b[39m[\u001b[38;5;241m.125\u001b[39m,\u001b[38;5;241m.25\u001b[39m,\u001b[38;5;241m.5\u001b[39m,\u001b[38;5;241m1\u001b[39m,\u001b[38;5;241m2\u001b[39m,\u001b[38;5;241m4\u001b[39m,\u001b[38;5;241m8\u001b[39m]\n",
      "Cell \u001b[0;32mIn[9], line 68\u001b[0m, in \u001b[0;36mget_original_classifier_acc\u001b[0;34m()\u001b[0m\n\u001b[1;32m     65\u001b[0m X_test, y_test \u001b[38;5;241m=\u001b[39m get_embeddings(transformer, test_loader, TEST_SAMPLE_SIZE, batch_size\u001b[38;5;241m=\u001b[39mBATCH_SIZE)\n\u001b[1;32m     67\u001b[0m train_loader \u001b[38;5;241m=\u001b[39m get_seeded_data_loader(dataset, \u001b[38;5;124m\"\u001b[39m\u001b[38;5;124mtrain\u001b[39m\u001b[38;5;124m\"\u001b[39m, GLOBAL_SEED, batch_size\u001b[38;5;241m=\u001b[39mBATCH_SIZE, resize\u001b[38;5;241m=\u001b[39mRESIZE)\n\u001b[0;32m---> 68\u001b[0m X_train, y_train \u001b[38;5;241m=\u001b[39m \u001b[43mget_embeddings\u001b[49m\u001b[43m(\u001b[49m\u001b[43mtransformer\u001b[49m\u001b[43m,\u001b[49m\u001b[43m \u001b[49m\u001b[43mtrain_loader\u001b[49m\u001b[43m,\u001b[49m\u001b[43m \u001b[49m\u001b[43mTRAIN_SAMPLE_SIZE\u001b[49m\u001b[43m,\u001b[49m\u001b[43m \u001b[49m\u001b[43mbatch_size\u001b[49m\u001b[38;5;241;43m=\u001b[39;49m\u001b[43mBATCH_SIZE\u001b[49m\u001b[43m)\u001b[49m\n\u001b[1;32m     70\u001b[0m clf \u001b[38;5;241m=\u001b[39m MLPClassifier(random_state\u001b[38;5;241m=\u001b[39mGLOBAL_SEED, max_iter\u001b[38;5;241m=\u001b[39m\u001b[38;5;241m10000\u001b[39m)\n\u001b[1;32m     71\u001b[0m clf\u001b[38;5;241m.\u001b[39mfit(X_train, y_train)\n",
      "File \u001b[0;32m~/dev/DINO-ViT_fruit_quality_assessment/dino_experiments/util.py:39\u001b[0m, in \u001b[0;36mget_embeddings\u001b[0;34m(model, dataloader, n_samples, batch_size)\u001b[0m\n\u001b[1;32m     37\u001b[0m i \u001b[38;5;241m=\u001b[39m \u001b[38;5;241m0\u001b[39m\n\u001b[1;32m     38\u001b[0m \u001b[38;5;28;01mfor\u001b[39;00m x, y \u001b[38;5;129;01min\u001b[39;00m dataloader:\n\u001b[0;32m---> 39\u001b[0m     embeddings \u001b[38;5;241m+\u001b[39m\u001b[38;5;241m=\u001b[39m [\u001b[43mmodel\u001b[49m\u001b[43m(\u001b[49m\u001b[43mx\u001b[49m\u001b[38;5;241;43m.\u001b[39;49m\u001b[43mto\u001b[49m\u001b[43m(\u001b[49m\u001b[43mdevice\u001b[49m\u001b[43m)\u001b[49m\u001b[43m)\u001b[49m\u001b[38;5;241;43m.\u001b[39;49m\u001b[43mcpu\u001b[49m\u001b[43m(\u001b[49m\u001b[43m)\u001b[49m\u001b[38;5;241m.\u001b[39mdetach()\u001b[38;5;241m.\u001b[39mnumpy()]\n\u001b[1;32m     40\u001b[0m     ys \u001b[38;5;241m+\u001b[39m\u001b[38;5;241m=\u001b[39m [y]\n\u001b[1;32m     41\u001b[0m     i \u001b[38;5;241m+\u001b[39m\u001b[38;5;241m=\u001b[39m \u001b[38;5;241m1\u001b[39m\n",
      "\u001b[0;31mKeyboardInterrupt\u001b[0m: "
     ]
    }
   ],
   "source": [
    "pipeline()"
   ]
  },
  {
   "cell_type": "code",
   "execution_count": 4,
   "id": "e9c8ce86-f535-4dc0-9b0a-c01219db4d45",
   "metadata": {},
   "outputs": [],
   "source": [
    "\n",
    "import torch.nn.functional as F\n",
    "\n",
    "class DinoClassifier(nn.Module):\n",
    "    def __init__(self, feature_extractor, num_features,num_classes):\n",
    "        super().__init__()\n",
    "        self.feature_extractor = feature_extractor\n",
    "        self.classifier = nn.Linear(num_features, num_classes)\n",
    "        self.train_stats=np.array([])\n",
    "    def forward(self, inputs):\n",
    "        x = F.relu(self.feature_extractor(inputs))\n",
    "        return self.classifier(x)"
   ]
  },
  {
   "cell_type": "code",
   "execution_count": 5,
   "id": "0175f9e4-a42e-4f0c-9863-86fcd08e82a5",
   "metadata": {},
   "outputs": [],
   "source": [
    "def evaluate_advs(advs):\n",
    "    normalize_values = ((0.6237, 0.6076, 0.5367), (0.1759, 0.1925, 0.3011))\n",
    "    normalized_advs = TF.normalize(advs, mean =normalize_values[0], std=normalize_values[1])\n",
    "    test_loader = get_seeded_data_loader(dataset, \"test\", GLOBAL_SEED, resize=RESIZE, batch_size=len(normalized_advs), normalize=False)\n",
    "    benign_labels = next(iter(test_loader))[1]\n",
    "    adv_test_dataset = torch.utils.data.TensorDataset(normalized_advs, benign_labels)\n",
    "    adv_test_dataloader = torch.utils.data.DataLoader(adv_test_dataset, batch_size=10)\n",
    "    adv_embeddings, ys = get_embeddings(transformer, adv_test_dataloader,TEST_SAMPLE_SIZE)\n",
    "    acc = clf.score(adv_embeddings, ys)\n",
    "    return acc\n",
    "\n",
    "def get_torch_classifier_acc():\n",
    "    transformer = torch.hub.load('facebookresearch/dino:main', 'dino_vits8', verbose=False).to(device)\n",
    "    m = torch.load('./saved-models/torch-classifier.pkl')\n",
    "    try:\n",
    "        m = torch.load('./saved-models/torch-classifier.pkl')\n",
    "    except:\n",
    "        \n",
    "        train_loader = get_seeded_data_loader(dataset, \"train\", GLOBAL_SEED, resize=RESIZE, batch_size=BATCH_SIZE)\n",
    "        val_loader = get_seeded_data_loader(dataset, \"val\", GLOBAL_SEED, resize=RESIZE, batch_size=BATCH_SIZE)\n",
    "        transformer = torch.hub.load('facebookresearch/dino:main', 'dino_vits8', verbose=False).to(device)\n",
    "        m = DinoClassifier(transformer, 384, 4).cuda()\n",
    "        for param in m.feature_extractor.parameters():\n",
    "            param.requires_grad = False\n",
    "        _fit(m, train_loader, val_loader, 25, device)\n",
    "    test_loader = get_seeded_data_loader(dataset, \"test\", GLOBAL_SEED, resize=RESIZE, batch_size=BATCH_SIZE)\n",
    "    criterion = nn.CrossEntropyLoss()\n",
    "    torch.save(m, './saved-models/torch-classifier.pkl')\n",
    "    accuracy, loss = _evaluate_model(m, test_loader, device, criterion)\n",
    "    print('test acc:', accuracy,', test loss:' ,loss)\n",
    "    return accuracy, m\n",
    "\n",
    "def get_skorch_classifier_acc():\n",
    "    test_loader = get_seeded_data_loader(dataset, \"test\", GLOBAL_SEED, resize=RESIZE, batch_size=60)\n",
    "    train_loader = get_seeded_data_loader(dataset, \"train\", GLOBAL_SEED, resize=RESIZE, batch_size=176)\n",
    "    val_loader = get_seeded_data_loader(dataset, \"val\", GLOBAL_SEED, resize=RESIZE, batch_size=60)\n",
    "    X_train_only,y_train_only = next(iter(train_loader))\n",
    "    X_val,y_val = next(iter(val_loader))\n",
    "    X_train, y_train = np.concatenate((X_train_only, X_val)), np.concatenate((y_train_only, y_val))\n",
    "    \n",
    "    transformer = torch.hub.load('facebookresearch/dino:main', 'dino_vits8', verbose=False).to(device)\n",
    "    m = DinoClassifier(transformer, 384, 4)\n",
    "    for param in m.feature_extractor.parameters():\n",
    "        param.requires_grad = False\n",
    "    net = NeuralNetClassifier(\n",
    "        m,\n",
    "        max_epochs=30,\n",
    "        criterion=nn.CrossEntropyLoss(),\n",
    "        optimizer=optim.Adam,\n",
    "        batch_size=8,\n",
    "    )\n",
    "    \n",
    "    net.fit(X_train, y_train)\n",
    "    test_loader = get_seeded_data_loader(dataset, \"test\", GLOBAL_SEED, resize=RESIZE, batch_size=7*8)\n",
    "    X_test, y_test = next(iter(test_loader))\n",
    "    acc = net.score(X_test, y_test)\n",
    "    print(acc)\n",
    "    return acc\n",
    "\n",
    "def get_original_classifier_acc():\n",
    "    transformer = torch.hub.load('facebookresearch/dino:main', 'dino_vits8', verbose=False)\n",
    "    transformer.to(device)\n",
    "    \n",
    "    test_loader = get_seeded_data_loader(dataset, \"test\", GLOBAL_SEED, resize=RESIZE, batch_size=BATCH_SIZE)\n",
    "    X_test, y_test = get_embeddings(transformer, test_loader, TEST_SAMPLE_SIZE, batch_size=BATCH_SIZE)\n",
    "    \n",
    "    train_loader = get_seeded_data_loader(dataset, \"train\", GLOBAL_SEED, batch_size=BATCH_SIZE, resize=RESIZE)\n",
    "    X_train, y_train = get_embeddings(transformer, train_loader, TRAIN_SAMPLE_SIZE, batch_size=BATCH_SIZE)\n",
    "    \n",
    "    clf = MLPClassifier(random_state=GLOBAL_SEED, max_iter=10000)\n",
    "    clf.fit(X_train, y_train)\n",
    "    preds = clf.predict(X_test)\n",
    "    acc = clf.score(X_test, y_test)\n",
    "    \n",
    "    return acc,clf\n",
    "\n",
    "import foolbox as fb\n",
    "from foolbox.criteria import Misclassification\n",
    "\n",
    "def get_adversarial_robustness(m, attack,eps, confidence=.02):\n",
    "    test_loader = get_seeded_data_loader(dataset, \"test\", GLOBAL_SEED, resize=RESIZE, batch_size=4, normalize=False)\n",
    "    \n",
    "    m.eval()\n",
    "    preprocessing = dict(mean=(0.6237, 0.6076, 0.5367), std=(0.1759, 0.1925, 0.3011), axis=-3)\n",
    "    bounds = (0, 1)\n",
    "    fmodel = fb.PyTorchModel(m, bounds=bounds,preprocessing=preprocessing)\n",
    "    successful_advs = 0\n",
    "    total_advs = 0\n",
    "    advs = np.empty((0,3,224,224))\n",
    "    if attack == 'PGD': att = fb.attacks.PGD()\n",
    "    if attack == 'FGSM': att = fb.attacks.FGSM()\n",
    "    if attack == 'CW': att = fb.attacks.L2CarliniWagnerAttack(confidence=confidence, binary_search_steps=3, steps=100, initial_const=1)\n",
    "    if attack == 'DF': att = fb.attacks.L2DeepFoolAttack(overshoot=confidence)\n",
    "    if attack == 'BB0': att = fb.attacks.L0BrendelBethgeAttack(init_attack=fb.attacks.LinearSearchBlendedUniformNoiseAttack(),overshoot=confidence, binary_search_steps=3, lr_num_decay=5, steps=50, lr=.01)\n",
    "    for x_batch, y_batch in test_loader:\n",
    "        t0=time()\n",
    "        x_batch, y_batch = x_batch.to(device), y_batch.to(device)\n",
    "        raw, clipped, is_adv = att(fmodel, x_batch, y_batch, epsilons=eps)\n",
    "        advs = np.concatenate((advs, clipped.cpu()))\n",
    "        total_advs += len(is_adv)\n",
    "        successful_advs += is_adv.sum()\n",
    "        print('ASR:',(successful_advs/total_advs).item())\n",
    "        print('time per batch:',time()-t0)\n",
    "    return 1-successful_advs/total_advs, advs\n",
    "        "
   ]
  },
  {
   "cell_type": "code",
   "execution_count": 55,
   "id": "7e0c31f0-ce78-41e8-b095-ccc05e2bb395",
   "metadata": {},
   "outputs": [
    {
     "name": "stdout",
     "output_type": "stream",
     "text": [
      "Splitting train and test data.\n",
      "Splitting train and val data.\n",
      "careful, reducing L0 norms not yet supported, therefore the unclipped adversarial examples and successes are returned\n",
      "tensor(1., device='cuda:0')\n"
     ]
    }
   ],
   "source": [
    "output = get_adversarial_robustness('BB0',eps=200, confidence = 1.3)\n",
    "bb0_advs = torch.from_numpy(output[1]).float()\n",
    "#torch.save(bb0_advs, 'bb0_advs-confidence-1.1.pkl')"
   ]
  },
  {
   "cell_type": "code",
   "execution_count": 6,
   "id": "efbcc2d7-a2de-4659-aa62-c9bae4cf9e03",
   "metadata": {
    "scrolled": true
   },
   "outputs": [
    {
     "name": "stdout",
     "output_type": "stream",
     "text": [
      "normalize values ((0.6237, 0.6076, 0.5367), (0.1759, 0.1925, 0.3011))\n",
      "Splitting train and test data.\n",
      "Splitting train and val data.\n",
      "test acc: 96.29629629629629 , test loss: 0.13909855538180896\n"
     ]
    },
    {
     "data": {
      "text/plain": [
       "96.29629629629629"
      ]
     },
     "execution_count": 6,
     "metadata": {},
     "output_type": "execute_result"
    }
   ],
   "source": [
    "acc, m = get_torch_classifier_acc()\n",
    "acc"
   ]
  },
  {
   "cell_type": "code",
   "execution_count": 7,
   "id": "921bacd8-62d5-4231-ad8f-59bdff335e86",
   "metadata": {},
   "outputs": [
    {
     "name": "stdout",
     "output_type": "stream",
     "text": [
      "normalize values ((0.6237, 0.6076, 0.5367), (0.1759, 0.1925, 0.3011))\n",
      "Splitting train and test data.\n",
      "Splitting train and val data.\n",
      "normalize values ((0.6237, 0.6076, 0.5367), (0.1759, 0.1925, 0.3011))\n",
      "Splitting train and test data.\n",
      "Splitting train and val data.\n",
      "normalize values ((0.6237, 0.6076, 0.5367), (0.1759, 0.1925, 0.3011))\n",
      "Splitting train and test data.\n",
      "Splitting train and val data.\n",
      "  epoch    train_loss    valid_acc    valid_loss      dur\n",
      "-------  ------------  -----------  ------------  -------\n",
      "      1        \u001b[36m3.6833\u001b[0m       \u001b[32m0.7500\u001b[0m        \u001b[35m2.7314\u001b[0m  28.4676\n",
      "      2        \u001b[36m2.7222\u001b[0m       0.7045        3.5502  28.9190\n",
      "normalize values ((0.6237, 0.6076, 0.5367), (0.1759, 0.1925, 0.3011))\n",
      "Splitting train and test data.\n",
      "Splitting train and val data.\n"
     ]
    },
    {
     "ename": "KeyboardInterrupt",
     "evalue": "",
     "output_type": "error",
     "traceback": [
      "\u001b[0;31m---------------------------------------------------------------------------\u001b[0m",
      "\u001b[0;31mKeyboardInterrupt\u001b[0m                         Traceback (most recent call last)",
      "Cell \u001b[0;32mIn[7], line 1\u001b[0m\n\u001b[0;32m----> 1\u001b[0m \u001b[43mget_skorch_classifier_acc\u001b[49m\u001b[43m(\u001b[49m\u001b[43m)\u001b[49m\n",
      "Cell \u001b[0;32mIn[5], line 56\u001b[0m, in \u001b[0;36mget_skorch_classifier_acc\u001b[0;34m()\u001b[0m\n\u001b[1;32m     54\u001b[0m test_loader \u001b[38;5;241m=\u001b[39m get_seeded_data_loader(dataset, \u001b[38;5;124m\"\u001b[39m\u001b[38;5;124mtest\u001b[39m\u001b[38;5;124m\"\u001b[39m, GLOBAL_SEED, resize\u001b[38;5;241m=\u001b[39mRESIZE, batch_size\u001b[38;5;241m=\u001b[39m\u001b[38;5;241m7\u001b[39m\u001b[38;5;241m*\u001b[39m\u001b[38;5;241m8\u001b[39m)\n\u001b[1;32m     55\u001b[0m X_test, y_test \u001b[38;5;241m=\u001b[39m \u001b[38;5;28mnext\u001b[39m(\u001b[38;5;28miter\u001b[39m(test_loader))\n\u001b[0;32m---> 56\u001b[0m acc \u001b[38;5;241m=\u001b[39m \u001b[43mnet\u001b[49m\u001b[38;5;241;43m.\u001b[39;49m\u001b[43mscore\u001b[49m\u001b[43m(\u001b[49m\u001b[43mX_test\u001b[49m\u001b[43m,\u001b[49m\u001b[43m \u001b[49m\u001b[43my_test\u001b[49m\u001b[43m)\u001b[49m\n\u001b[1;32m     57\u001b[0m \u001b[38;5;28mprint\u001b[39m(acc)\n\u001b[1;32m     58\u001b[0m \u001b[38;5;28;01mreturn\u001b[39;00m acc\n",
      "File \u001b[0;32m~/anaconda3/envs/fruit-qa/lib/python3.10/site-packages/sklearn/base.py:666\u001b[0m, in \u001b[0;36mClassifierMixin.score\u001b[0;34m(self, X, y, sample_weight)\u001b[0m\n\u001b[1;32m    641\u001b[0m \u001b[38;5;250m\u001b[39m\u001b[38;5;124;03m\"\"\"\u001b[39;00m\n\u001b[1;32m    642\u001b[0m \u001b[38;5;124;03mReturn the mean accuracy on the given test data and labels.\u001b[39;00m\n\u001b[1;32m    643\u001b[0m \n\u001b[0;32m   (...)\u001b[0m\n\u001b[1;32m    662\u001b[0m \u001b[38;5;124;03m    Mean accuracy of ``self.predict(X)`` wrt. `y`.\u001b[39;00m\n\u001b[1;32m    663\u001b[0m \u001b[38;5;124;03m\"\"\"\u001b[39;00m\n\u001b[1;32m    664\u001b[0m \u001b[38;5;28;01mfrom\u001b[39;00m \u001b[38;5;21;01m.\u001b[39;00m\u001b[38;5;21;01mmetrics\u001b[39;00m \u001b[38;5;28;01mimport\u001b[39;00m accuracy_score\n\u001b[0;32m--> 666\u001b[0m \u001b[38;5;28;01mreturn\u001b[39;00m accuracy_score(y, \u001b[38;5;28;43mself\u001b[39;49m\u001b[38;5;241;43m.\u001b[39;49m\u001b[43mpredict\u001b[49m\u001b[43m(\u001b[49m\u001b[43mX\u001b[49m\u001b[43m)\u001b[49m, sample_weight\u001b[38;5;241m=\u001b[39msample_weight)\n",
      "File \u001b[0;32m~/anaconda3/envs/fruit-qa/lib/python3.10/site-packages/skorch/classifier.py:232\u001b[0m, in \u001b[0;36mNeuralNetClassifier.predict\u001b[0;34m(self, X)\u001b[0m\n\u001b[1;32m    202\u001b[0m \u001b[38;5;28;01mdef\u001b[39;00m \u001b[38;5;21mpredict\u001b[39m(\u001b[38;5;28mself\u001b[39m, X):\n\u001b[1;32m    203\u001b[0m \u001b[38;5;250m    \u001b[39m\u001b[38;5;124;03m\"\"\"Where applicable, return class labels for samples in X.\u001b[39;00m\n\u001b[1;32m    204\u001b[0m \n\u001b[1;32m    205\u001b[0m \u001b[38;5;124;03m    If the module's forward method returns multiple outputs as a\u001b[39;00m\n\u001b[0;32m   (...)\u001b[0m\n\u001b[1;32m    230\u001b[0m \n\u001b[1;32m    231\u001b[0m \u001b[38;5;124;03m    \"\"\"\u001b[39;00m\n\u001b[0;32m--> 232\u001b[0m     \u001b[38;5;28;01mreturn\u001b[39;00m \u001b[38;5;28;43mself\u001b[39;49m\u001b[38;5;241;43m.\u001b[39;49m\u001b[43mpredict_proba\u001b[49m\u001b[43m(\u001b[49m\u001b[43mX\u001b[49m\u001b[43m)\u001b[49m\u001b[38;5;241m.\u001b[39margmax(axis\u001b[38;5;241m=\u001b[39m\u001b[38;5;241m1\u001b[39m)\n",
      "File \u001b[0;32m~/anaconda3/envs/fruit-qa/lib/python3.10/site-packages/skorch/classifier.py:200\u001b[0m, in \u001b[0;36mNeuralNetClassifier.predict_proba\u001b[0;34m(self, X)\u001b[0m\n\u001b[1;32m    168\u001b[0m \u001b[38;5;250m\u001b[39m\u001b[38;5;124;03m\"\"\"Where applicable, return probability estimates for\u001b[39;00m\n\u001b[1;32m    169\u001b[0m \u001b[38;5;124;03msamples.\u001b[39;00m\n\u001b[1;32m    170\u001b[0m \n\u001b[0;32m   (...)\u001b[0m\n\u001b[1;32m    196\u001b[0m \n\u001b[1;32m    197\u001b[0m \u001b[38;5;124;03m\"\"\"\u001b[39;00m\n\u001b[1;32m    198\u001b[0m \u001b[38;5;66;03m# Only the docstring changed from parent.\u001b[39;00m\n\u001b[1;32m    199\u001b[0m \u001b[38;5;66;03m# pylint: disable=useless-super-delegation\u001b[39;00m\n\u001b[0;32m--> 200\u001b[0m \u001b[38;5;28;01mreturn\u001b[39;00m \u001b[38;5;28;43msuper\u001b[39;49m\u001b[43m(\u001b[49m\u001b[43m)\u001b[49m\u001b[38;5;241;43m.\u001b[39;49m\u001b[43mpredict_proba\u001b[49m\u001b[43m(\u001b[49m\u001b[43mX\u001b[49m\u001b[43m)\u001b[49m\n",
      "File \u001b[0;32m~/anaconda3/envs/fruit-qa/lib/python3.10/site-packages/skorch/net.py:1595\u001b[0m, in \u001b[0;36mNeuralNet.predict_proba\u001b[0;34m(self, X)\u001b[0m\n\u001b[1;32m   1593\u001b[0m nonlin \u001b[38;5;241m=\u001b[39m \u001b[38;5;28mself\u001b[39m\u001b[38;5;241m.\u001b[39m_get_predict_nonlinearity()\n\u001b[1;32m   1594\u001b[0m y_probas \u001b[38;5;241m=\u001b[39m []\n\u001b[0;32m-> 1595\u001b[0m \u001b[38;5;28;01mfor\u001b[39;00m yp \u001b[38;5;129;01min\u001b[39;00m \u001b[38;5;28mself\u001b[39m\u001b[38;5;241m.\u001b[39mforward_iter(X, training\u001b[38;5;241m=\u001b[39m\u001b[38;5;28;01mFalse\u001b[39;00m):\n\u001b[1;32m   1596\u001b[0m     yp \u001b[38;5;241m=\u001b[39m yp[\u001b[38;5;241m0\u001b[39m] \u001b[38;5;28;01mif\u001b[39;00m \u001b[38;5;28misinstance\u001b[39m(yp, \u001b[38;5;28mtuple\u001b[39m) \u001b[38;5;28;01melse\u001b[39;00m yp\n\u001b[1;32m   1597\u001b[0m     yp \u001b[38;5;241m=\u001b[39m nonlin(yp)\n",
      "File \u001b[0;32m~/anaconda3/envs/fruit-qa/lib/python3.10/site-packages/skorch/net.py:1441\u001b[0m, in \u001b[0;36mNeuralNet.forward_iter\u001b[0;34m(self, X, training, device)\u001b[0m\n\u001b[1;32m   1439\u001b[0m iterator \u001b[38;5;241m=\u001b[39m \u001b[38;5;28mself\u001b[39m\u001b[38;5;241m.\u001b[39mget_iterator(dataset, training\u001b[38;5;241m=\u001b[39mtraining)\n\u001b[1;32m   1440\u001b[0m \u001b[38;5;28;01mfor\u001b[39;00m batch \u001b[38;5;129;01min\u001b[39;00m iterator:\n\u001b[0;32m-> 1441\u001b[0m     yp \u001b[38;5;241m=\u001b[39m \u001b[38;5;28;43mself\u001b[39;49m\u001b[38;5;241;43m.\u001b[39;49m\u001b[43mevaluation_step\u001b[49m\u001b[43m(\u001b[49m\u001b[43mbatch\u001b[49m\u001b[43m,\u001b[49m\u001b[43m \u001b[49m\u001b[43mtraining\u001b[49m\u001b[38;5;241;43m=\u001b[39;49m\u001b[43mtraining\u001b[49m\u001b[43m)\u001b[49m\n\u001b[1;32m   1442\u001b[0m     \u001b[38;5;28;01myield\u001b[39;00m to_device(yp, device\u001b[38;5;241m=\u001b[39mdevice)\n",
      "File \u001b[0;32m~/anaconda3/envs/fruit-qa/lib/python3.10/site-packages/skorch/net.py:1134\u001b[0m, in \u001b[0;36mNeuralNet.evaluation_step\u001b[0;34m(self, batch, training)\u001b[0m\n\u001b[1;32m   1132\u001b[0m \u001b[38;5;28;01mwith\u001b[39;00m torch\u001b[38;5;241m.\u001b[39mset_grad_enabled(training):\n\u001b[1;32m   1133\u001b[0m     \u001b[38;5;28mself\u001b[39m\u001b[38;5;241m.\u001b[39m_set_training(training)\n\u001b[0;32m-> 1134\u001b[0m     \u001b[38;5;28;01mreturn\u001b[39;00m \u001b[38;5;28;43mself\u001b[39;49m\u001b[38;5;241;43m.\u001b[39;49m\u001b[43minfer\u001b[49m\u001b[43m(\u001b[49m\u001b[43mXi\u001b[49m\u001b[43m)\u001b[49m\n",
      "File \u001b[0;32m~/anaconda3/envs/fruit-qa/lib/python3.10/site-packages/skorch/net.py:1521\u001b[0m, in \u001b[0;36mNeuralNet.infer\u001b[0;34m(self, x, **fit_params)\u001b[0m\n\u001b[1;32m   1519\u001b[0m     x_dict \u001b[38;5;241m=\u001b[39m \u001b[38;5;28mself\u001b[39m\u001b[38;5;241m.\u001b[39m_merge_x_and_fit_params(x, fit_params)\n\u001b[1;32m   1520\u001b[0m     \u001b[38;5;28;01mreturn\u001b[39;00m \u001b[38;5;28mself\u001b[39m\u001b[38;5;241m.\u001b[39mmodule_(\u001b[38;5;241m*\u001b[39m\u001b[38;5;241m*\u001b[39mx_dict)\n\u001b[0;32m-> 1521\u001b[0m \u001b[38;5;28;01mreturn\u001b[39;00m \u001b[38;5;28;43mself\u001b[39;49m\u001b[38;5;241;43m.\u001b[39;49m\u001b[43mmodule_\u001b[49m\u001b[43m(\u001b[49m\u001b[43mx\u001b[49m\u001b[43m,\u001b[49m\u001b[43m \u001b[49m\u001b[38;5;241;43m*\u001b[39;49m\u001b[38;5;241;43m*\u001b[39;49m\u001b[43mfit_params\u001b[49m\u001b[43m)\u001b[49m\n",
      "File \u001b[0;32m~/anaconda3/envs/fruit-qa/lib/python3.10/site-packages/torch/nn/modules/module.py:1518\u001b[0m, in \u001b[0;36mModule._wrapped_call_impl\u001b[0;34m(self, *args, **kwargs)\u001b[0m\n\u001b[1;32m   1516\u001b[0m     \u001b[38;5;28;01mreturn\u001b[39;00m \u001b[38;5;28mself\u001b[39m\u001b[38;5;241m.\u001b[39m_compiled_call_impl(\u001b[38;5;241m*\u001b[39margs, \u001b[38;5;241m*\u001b[39m\u001b[38;5;241m*\u001b[39mkwargs)  \u001b[38;5;66;03m# type: ignore[misc]\u001b[39;00m\n\u001b[1;32m   1517\u001b[0m \u001b[38;5;28;01melse\u001b[39;00m:\n\u001b[0;32m-> 1518\u001b[0m     \u001b[38;5;28;01mreturn\u001b[39;00m \u001b[38;5;28;43mself\u001b[39;49m\u001b[38;5;241;43m.\u001b[39;49m\u001b[43m_call_impl\u001b[49m\u001b[43m(\u001b[49m\u001b[38;5;241;43m*\u001b[39;49m\u001b[43margs\u001b[49m\u001b[43m,\u001b[49m\u001b[43m \u001b[49m\u001b[38;5;241;43m*\u001b[39;49m\u001b[38;5;241;43m*\u001b[39;49m\u001b[43mkwargs\u001b[49m\u001b[43m)\u001b[49m\n",
      "File \u001b[0;32m~/anaconda3/envs/fruit-qa/lib/python3.10/site-packages/torch/nn/modules/module.py:1527\u001b[0m, in \u001b[0;36mModule._call_impl\u001b[0;34m(self, *args, **kwargs)\u001b[0m\n\u001b[1;32m   1522\u001b[0m \u001b[38;5;66;03m# If we don't have any hooks, we want to skip the rest of the logic in\u001b[39;00m\n\u001b[1;32m   1523\u001b[0m \u001b[38;5;66;03m# this function, and just call forward.\u001b[39;00m\n\u001b[1;32m   1524\u001b[0m \u001b[38;5;28;01mif\u001b[39;00m \u001b[38;5;129;01mnot\u001b[39;00m (\u001b[38;5;28mself\u001b[39m\u001b[38;5;241m.\u001b[39m_backward_hooks \u001b[38;5;129;01mor\u001b[39;00m \u001b[38;5;28mself\u001b[39m\u001b[38;5;241m.\u001b[39m_backward_pre_hooks \u001b[38;5;129;01mor\u001b[39;00m \u001b[38;5;28mself\u001b[39m\u001b[38;5;241m.\u001b[39m_forward_hooks \u001b[38;5;129;01mor\u001b[39;00m \u001b[38;5;28mself\u001b[39m\u001b[38;5;241m.\u001b[39m_forward_pre_hooks\n\u001b[1;32m   1525\u001b[0m         \u001b[38;5;129;01mor\u001b[39;00m _global_backward_pre_hooks \u001b[38;5;129;01mor\u001b[39;00m _global_backward_hooks\n\u001b[1;32m   1526\u001b[0m         \u001b[38;5;129;01mor\u001b[39;00m _global_forward_hooks \u001b[38;5;129;01mor\u001b[39;00m _global_forward_pre_hooks):\n\u001b[0;32m-> 1527\u001b[0m     \u001b[38;5;28;01mreturn\u001b[39;00m \u001b[43mforward_call\u001b[49m\u001b[43m(\u001b[49m\u001b[38;5;241;43m*\u001b[39;49m\u001b[43margs\u001b[49m\u001b[43m,\u001b[49m\u001b[43m \u001b[49m\u001b[38;5;241;43m*\u001b[39;49m\u001b[38;5;241;43m*\u001b[39;49m\u001b[43mkwargs\u001b[49m\u001b[43m)\u001b[49m\n\u001b[1;32m   1529\u001b[0m \u001b[38;5;28;01mtry\u001b[39;00m:\n\u001b[1;32m   1530\u001b[0m     result \u001b[38;5;241m=\u001b[39m \u001b[38;5;28;01mNone\u001b[39;00m\n",
      "Cell \u001b[0;32mIn[4], line 10\u001b[0m, in \u001b[0;36mDinoClassifier.forward\u001b[0;34m(self, inputs)\u001b[0m\n\u001b[1;32m      9\u001b[0m \u001b[38;5;28;01mdef\u001b[39;00m \u001b[38;5;21mforward\u001b[39m(\u001b[38;5;28mself\u001b[39m, inputs):\n\u001b[0;32m---> 10\u001b[0m     x \u001b[38;5;241m=\u001b[39m F\u001b[38;5;241m.\u001b[39mrelu(\u001b[38;5;28;43mself\u001b[39;49m\u001b[38;5;241;43m.\u001b[39;49m\u001b[43mfeature_extractor\u001b[49m\u001b[43m(\u001b[49m\u001b[43minputs\u001b[49m\u001b[43m)\u001b[49m)\n\u001b[1;32m     11\u001b[0m     \u001b[38;5;28;01mreturn\u001b[39;00m \u001b[38;5;28mself\u001b[39m\u001b[38;5;241m.\u001b[39mclassifier(x)\n",
      "File \u001b[0;32m~/anaconda3/envs/fruit-qa/lib/python3.10/site-packages/torch/nn/modules/module.py:1518\u001b[0m, in \u001b[0;36mModule._wrapped_call_impl\u001b[0;34m(self, *args, **kwargs)\u001b[0m\n\u001b[1;32m   1516\u001b[0m     \u001b[38;5;28;01mreturn\u001b[39;00m \u001b[38;5;28mself\u001b[39m\u001b[38;5;241m.\u001b[39m_compiled_call_impl(\u001b[38;5;241m*\u001b[39margs, \u001b[38;5;241m*\u001b[39m\u001b[38;5;241m*\u001b[39mkwargs)  \u001b[38;5;66;03m# type: ignore[misc]\u001b[39;00m\n\u001b[1;32m   1517\u001b[0m \u001b[38;5;28;01melse\u001b[39;00m:\n\u001b[0;32m-> 1518\u001b[0m     \u001b[38;5;28;01mreturn\u001b[39;00m \u001b[38;5;28;43mself\u001b[39;49m\u001b[38;5;241;43m.\u001b[39;49m\u001b[43m_call_impl\u001b[49m\u001b[43m(\u001b[49m\u001b[38;5;241;43m*\u001b[39;49m\u001b[43margs\u001b[49m\u001b[43m,\u001b[49m\u001b[43m \u001b[49m\u001b[38;5;241;43m*\u001b[39;49m\u001b[38;5;241;43m*\u001b[39;49m\u001b[43mkwargs\u001b[49m\u001b[43m)\u001b[49m\n",
      "File \u001b[0;32m~/anaconda3/envs/fruit-qa/lib/python3.10/site-packages/torch/nn/modules/module.py:1527\u001b[0m, in \u001b[0;36mModule._call_impl\u001b[0;34m(self, *args, **kwargs)\u001b[0m\n\u001b[1;32m   1522\u001b[0m \u001b[38;5;66;03m# If we don't have any hooks, we want to skip the rest of the logic in\u001b[39;00m\n\u001b[1;32m   1523\u001b[0m \u001b[38;5;66;03m# this function, and just call forward.\u001b[39;00m\n\u001b[1;32m   1524\u001b[0m \u001b[38;5;28;01mif\u001b[39;00m \u001b[38;5;129;01mnot\u001b[39;00m (\u001b[38;5;28mself\u001b[39m\u001b[38;5;241m.\u001b[39m_backward_hooks \u001b[38;5;129;01mor\u001b[39;00m \u001b[38;5;28mself\u001b[39m\u001b[38;5;241m.\u001b[39m_backward_pre_hooks \u001b[38;5;129;01mor\u001b[39;00m \u001b[38;5;28mself\u001b[39m\u001b[38;5;241m.\u001b[39m_forward_hooks \u001b[38;5;129;01mor\u001b[39;00m \u001b[38;5;28mself\u001b[39m\u001b[38;5;241m.\u001b[39m_forward_pre_hooks\n\u001b[1;32m   1525\u001b[0m         \u001b[38;5;129;01mor\u001b[39;00m _global_backward_pre_hooks \u001b[38;5;129;01mor\u001b[39;00m _global_backward_hooks\n\u001b[1;32m   1526\u001b[0m         \u001b[38;5;129;01mor\u001b[39;00m _global_forward_hooks \u001b[38;5;129;01mor\u001b[39;00m _global_forward_pre_hooks):\n\u001b[0;32m-> 1527\u001b[0m     \u001b[38;5;28;01mreturn\u001b[39;00m \u001b[43mforward_call\u001b[49m\u001b[43m(\u001b[49m\u001b[38;5;241;43m*\u001b[39;49m\u001b[43margs\u001b[49m\u001b[43m,\u001b[49m\u001b[43m \u001b[49m\u001b[38;5;241;43m*\u001b[39;49m\u001b[38;5;241;43m*\u001b[39;49m\u001b[43mkwargs\u001b[49m\u001b[43m)\u001b[49m\n\u001b[1;32m   1529\u001b[0m \u001b[38;5;28;01mtry\u001b[39;00m:\n\u001b[1;32m   1530\u001b[0m     result \u001b[38;5;241m=\u001b[39m \u001b[38;5;28;01mNone\u001b[39;00m\n",
      "File \u001b[0;32m~/.cache/torch/hub/facebookresearch_dino_main/vision_transformer.py:212\u001b[0m, in \u001b[0;36mVisionTransformer.forward\u001b[0;34m(self, x)\u001b[0m\n\u001b[1;32m    210\u001b[0m x \u001b[38;5;241m=\u001b[39m \u001b[38;5;28mself\u001b[39m\u001b[38;5;241m.\u001b[39mprepare_tokens(x)\n\u001b[1;32m    211\u001b[0m \u001b[38;5;28;01mfor\u001b[39;00m blk \u001b[38;5;129;01min\u001b[39;00m \u001b[38;5;28mself\u001b[39m\u001b[38;5;241m.\u001b[39mblocks:\n\u001b[0;32m--> 212\u001b[0m     x \u001b[38;5;241m=\u001b[39m \u001b[43mblk\u001b[49m\u001b[43m(\u001b[49m\u001b[43mx\u001b[49m\u001b[43m)\u001b[49m\n\u001b[1;32m    213\u001b[0m x \u001b[38;5;241m=\u001b[39m \u001b[38;5;28mself\u001b[39m\u001b[38;5;241m.\u001b[39mnorm(x)\n\u001b[1;32m    214\u001b[0m \u001b[38;5;28;01mreturn\u001b[39;00m x[:, \u001b[38;5;241m0\u001b[39m]\n",
      "File \u001b[0;32m~/anaconda3/envs/fruit-qa/lib/python3.10/site-packages/torch/nn/modules/module.py:1518\u001b[0m, in \u001b[0;36mModule._wrapped_call_impl\u001b[0;34m(self, *args, **kwargs)\u001b[0m\n\u001b[1;32m   1516\u001b[0m     \u001b[38;5;28;01mreturn\u001b[39;00m \u001b[38;5;28mself\u001b[39m\u001b[38;5;241m.\u001b[39m_compiled_call_impl(\u001b[38;5;241m*\u001b[39margs, \u001b[38;5;241m*\u001b[39m\u001b[38;5;241m*\u001b[39mkwargs)  \u001b[38;5;66;03m# type: ignore[misc]\u001b[39;00m\n\u001b[1;32m   1517\u001b[0m \u001b[38;5;28;01melse\u001b[39;00m:\n\u001b[0;32m-> 1518\u001b[0m     \u001b[38;5;28;01mreturn\u001b[39;00m \u001b[38;5;28;43mself\u001b[39;49m\u001b[38;5;241;43m.\u001b[39;49m\u001b[43m_call_impl\u001b[49m\u001b[43m(\u001b[49m\u001b[38;5;241;43m*\u001b[39;49m\u001b[43margs\u001b[49m\u001b[43m,\u001b[49m\u001b[43m \u001b[49m\u001b[38;5;241;43m*\u001b[39;49m\u001b[38;5;241;43m*\u001b[39;49m\u001b[43mkwargs\u001b[49m\u001b[43m)\u001b[49m\n",
      "File \u001b[0;32m~/anaconda3/envs/fruit-qa/lib/python3.10/site-packages/torch/nn/modules/module.py:1527\u001b[0m, in \u001b[0;36mModule._call_impl\u001b[0;34m(self, *args, **kwargs)\u001b[0m\n\u001b[1;32m   1522\u001b[0m \u001b[38;5;66;03m# If we don't have any hooks, we want to skip the rest of the logic in\u001b[39;00m\n\u001b[1;32m   1523\u001b[0m \u001b[38;5;66;03m# this function, and just call forward.\u001b[39;00m\n\u001b[1;32m   1524\u001b[0m \u001b[38;5;28;01mif\u001b[39;00m \u001b[38;5;129;01mnot\u001b[39;00m (\u001b[38;5;28mself\u001b[39m\u001b[38;5;241m.\u001b[39m_backward_hooks \u001b[38;5;129;01mor\u001b[39;00m \u001b[38;5;28mself\u001b[39m\u001b[38;5;241m.\u001b[39m_backward_pre_hooks \u001b[38;5;129;01mor\u001b[39;00m \u001b[38;5;28mself\u001b[39m\u001b[38;5;241m.\u001b[39m_forward_hooks \u001b[38;5;129;01mor\u001b[39;00m \u001b[38;5;28mself\u001b[39m\u001b[38;5;241m.\u001b[39m_forward_pre_hooks\n\u001b[1;32m   1525\u001b[0m         \u001b[38;5;129;01mor\u001b[39;00m _global_backward_pre_hooks \u001b[38;5;129;01mor\u001b[39;00m _global_backward_hooks\n\u001b[1;32m   1526\u001b[0m         \u001b[38;5;129;01mor\u001b[39;00m _global_forward_hooks \u001b[38;5;129;01mor\u001b[39;00m _global_forward_pre_hooks):\n\u001b[0;32m-> 1527\u001b[0m     \u001b[38;5;28;01mreturn\u001b[39;00m \u001b[43mforward_call\u001b[49m\u001b[43m(\u001b[49m\u001b[38;5;241;43m*\u001b[39;49m\u001b[43margs\u001b[49m\u001b[43m,\u001b[49m\u001b[43m \u001b[49m\u001b[38;5;241;43m*\u001b[39;49m\u001b[38;5;241;43m*\u001b[39;49m\u001b[43mkwargs\u001b[49m\u001b[43m)\u001b[49m\n\u001b[1;32m   1529\u001b[0m \u001b[38;5;28;01mtry\u001b[39;00m:\n\u001b[1;32m   1530\u001b[0m     result \u001b[38;5;241m=\u001b[39m \u001b[38;5;28;01mNone\u001b[39;00m\n",
      "File \u001b[0;32m~/.cache/torch/hub/facebookresearch_dino_main/vision_transformer.py:108\u001b[0m, in \u001b[0;36mBlock.forward\u001b[0;34m(self, x, return_attention)\u001b[0m\n\u001b[1;32m    107\u001b[0m \u001b[38;5;28;01mdef\u001b[39;00m \u001b[38;5;21mforward\u001b[39m(\u001b[38;5;28mself\u001b[39m, x, return_attention\u001b[38;5;241m=\u001b[39m\u001b[38;5;28;01mFalse\u001b[39;00m):\n\u001b[0;32m--> 108\u001b[0m     y, attn \u001b[38;5;241m=\u001b[39m \u001b[38;5;28;43mself\u001b[39;49m\u001b[38;5;241;43m.\u001b[39;49m\u001b[43mattn\u001b[49m\u001b[43m(\u001b[49m\u001b[38;5;28;43mself\u001b[39;49m\u001b[38;5;241;43m.\u001b[39;49m\u001b[43mnorm1\u001b[49m\u001b[43m(\u001b[49m\u001b[43mx\u001b[49m\u001b[43m)\u001b[49m\u001b[43m)\u001b[49m\n\u001b[1;32m    109\u001b[0m     \u001b[38;5;28;01mif\u001b[39;00m return_attention:\n\u001b[1;32m    110\u001b[0m         \u001b[38;5;28;01mreturn\u001b[39;00m attn\n",
      "File \u001b[0;32m~/anaconda3/envs/fruit-qa/lib/python3.10/site-packages/torch/nn/modules/module.py:1518\u001b[0m, in \u001b[0;36mModule._wrapped_call_impl\u001b[0;34m(self, *args, **kwargs)\u001b[0m\n\u001b[1;32m   1516\u001b[0m     \u001b[38;5;28;01mreturn\u001b[39;00m \u001b[38;5;28mself\u001b[39m\u001b[38;5;241m.\u001b[39m_compiled_call_impl(\u001b[38;5;241m*\u001b[39margs, \u001b[38;5;241m*\u001b[39m\u001b[38;5;241m*\u001b[39mkwargs)  \u001b[38;5;66;03m# type: ignore[misc]\u001b[39;00m\n\u001b[1;32m   1517\u001b[0m \u001b[38;5;28;01melse\u001b[39;00m:\n\u001b[0;32m-> 1518\u001b[0m     \u001b[38;5;28;01mreturn\u001b[39;00m \u001b[38;5;28;43mself\u001b[39;49m\u001b[38;5;241;43m.\u001b[39;49m\u001b[43m_call_impl\u001b[49m\u001b[43m(\u001b[49m\u001b[38;5;241;43m*\u001b[39;49m\u001b[43margs\u001b[49m\u001b[43m,\u001b[49m\u001b[43m \u001b[49m\u001b[38;5;241;43m*\u001b[39;49m\u001b[38;5;241;43m*\u001b[39;49m\u001b[43mkwargs\u001b[49m\u001b[43m)\u001b[49m\n",
      "File \u001b[0;32m~/anaconda3/envs/fruit-qa/lib/python3.10/site-packages/torch/nn/modules/module.py:1527\u001b[0m, in \u001b[0;36mModule._call_impl\u001b[0;34m(self, *args, **kwargs)\u001b[0m\n\u001b[1;32m   1522\u001b[0m \u001b[38;5;66;03m# If we don't have any hooks, we want to skip the rest of the logic in\u001b[39;00m\n\u001b[1;32m   1523\u001b[0m \u001b[38;5;66;03m# this function, and just call forward.\u001b[39;00m\n\u001b[1;32m   1524\u001b[0m \u001b[38;5;28;01mif\u001b[39;00m \u001b[38;5;129;01mnot\u001b[39;00m (\u001b[38;5;28mself\u001b[39m\u001b[38;5;241m.\u001b[39m_backward_hooks \u001b[38;5;129;01mor\u001b[39;00m \u001b[38;5;28mself\u001b[39m\u001b[38;5;241m.\u001b[39m_backward_pre_hooks \u001b[38;5;129;01mor\u001b[39;00m \u001b[38;5;28mself\u001b[39m\u001b[38;5;241m.\u001b[39m_forward_hooks \u001b[38;5;129;01mor\u001b[39;00m \u001b[38;5;28mself\u001b[39m\u001b[38;5;241m.\u001b[39m_forward_pre_hooks\n\u001b[1;32m   1525\u001b[0m         \u001b[38;5;129;01mor\u001b[39;00m _global_backward_pre_hooks \u001b[38;5;129;01mor\u001b[39;00m _global_backward_hooks\n\u001b[1;32m   1526\u001b[0m         \u001b[38;5;129;01mor\u001b[39;00m _global_forward_hooks \u001b[38;5;129;01mor\u001b[39;00m _global_forward_pre_hooks):\n\u001b[0;32m-> 1527\u001b[0m     \u001b[38;5;28;01mreturn\u001b[39;00m \u001b[43mforward_call\u001b[49m\u001b[43m(\u001b[49m\u001b[38;5;241;43m*\u001b[39;49m\u001b[43margs\u001b[49m\u001b[43m,\u001b[49m\u001b[43m \u001b[49m\u001b[38;5;241;43m*\u001b[39;49m\u001b[38;5;241;43m*\u001b[39;49m\u001b[43mkwargs\u001b[49m\u001b[43m)\u001b[49m\n\u001b[1;32m   1529\u001b[0m \u001b[38;5;28;01mtry\u001b[39;00m:\n\u001b[1;32m   1530\u001b[0m     result \u001b[38;5;241m=\u001b[39m \u001b[38;5;28;01mNone\u001b[39;00m\n",
      "File \u001b[0;32m~/.cache/torch/hub/facebookresearch_dino_main/vision_transformer.py:86\u001b[0m, in \u001b[0;36mAttention.forward\u001b[0;34m(self, x)\u001b[0m\n\u001b[1;32m     83\u001b[0m q, k, v \u001b[38;5;241m=\u001b[39m qkv[\u001b[38;5;241m0\u001b[39m], qkv[\u001b[38;5;241m1\u001b[39m], qkv[\u001b[38;5;241m2\u001b[39m]\n\u001b[1;32m     85\u001b[0m attn \u001b[38;5;241m=\u001b[39m (q \u001b[38;5;241m@\u001b[39m k\u001b[38;5;241m.\u001b[39mtranspose(\u001b[38;5;241m-\u001b[39m\u001b[38;5;241m2\u001b[39m, \u001b[38;5;241m-\u001b[39m\u001b[38;5;241m1\u001b[39m)) \u001b[38;5;241m*\u001b[39m \u001b[38;5;28mself\u001b[39m\u001b[38;5;241m.\u001b[39mscale\n\u001b[0;32m---> 86\u001b[0m attn \u001b[38;5;241m=\u001b[39m \u001b[43mattn\u001b[49m\u001b[38;5;241;43m.\u001b[39;49m\u001b[43msoftmax\u001b[49m\u001b[43m(\u001b[49m\u001b[43mdim\u001b[49m\u001b[38;5;241;43m=\u001b[39;49m\u001b[38;5;241;43m-\u001b[39;49m\u001b[38;5;241;43m1\u001b[39;49m\u001b[43m)\u001b[49m\n\u001b[1;32m     87\u001b[0m attn \u001b[38;5;241m=\u001b[39m \u001b[38;5;28mself\u001b[39m\u001b[38;5;241m.\u001b[39mattn_drop(attn)\n\u001b[1;32m     89\u001b[0m x \u001b[38;5;241m=\u001b[39m (attn \u001b[38;5;241m@\u001b[39m v)\u001b[38;5;241m.\u001b[39mtranspose(\u001b[38;5;241m1\u001b[39m, \u001b[38;5;241m2\u001b[39m)\u001b[38;5;241m.\u001b[39mreshape(B, N, C)\n",
      "\u001b[0;31mKeyboardInterrupt\u001b[0m: "
     ]
    }
   ],
   "source": [
    "get_skorch_classifier_acc()"
   ]
  },
  {
   "cell_type": "code",
   "execution_count": 6,
   "id": "06522700-b7d4-4821-b926-7245f0f2d002",
   "metadata": {},
   "outputs": [
    {
     "name": "stdout",
     "output_type": "stream",
     "text": [
      "normalize values ((0.6237, 0.6076, 0.5367), (0.1759, 0.1925, 0.3011))\n",
      "Splitting train and test data.\n",
      "Splitting train and val data.\n",
      "normalize values ((0.6237, 0.6076, 0.5367), (0.1759, 0.1925, 0.3011))\n",
      "Splitting train and test data.\n",
      "Splitting train and val data.\n"
     ]
    },
    {
     "data": {
      "text/plain": [
       "0.9259259259259259"
      ]
     },
     "execution_count": 6,
     "metadata": {},
     "output_type": "execute_result"
    }
   ],
   "source": [
    "acc, clf = get_original_classifier_acc()\n",
    "acc"
   ]
  },
  {
   "cell_type": "code",
   "execution_count": 23,
   "id": "c33c2c1b-6ccd-4667-9616-ffdbe7013995",
   "metadata": {},
   "outputs": [
    {
     "name": "stdout",
     "output_type": "stream",
     "text": [
      "Splitting train and test data.\n",
      "Splitting train and val data.\n",
      "tensor(1., device='cuda:0')\n",
      "tensor(1., device='cuda:0')\n",
      "tensor(1., device='cuda:0')\n",
      "tensor(1., device='cuda:0')\n",
      "tensor(1., device='cuda:0')\n",
      "tensor(1., device='cuda:0')\n",
      "tensor(1., device='cuda:0')\n",
      "tensor(1., device='cuda:0')\n",
      "tensor(1., device='cuda:0')\n",
      "tensor(1., device='cuda:0')\n",
      "tensor(1., device='cuda:0')\n",
      "tensor(1., device='cuda:0')\n",
      "tensor(1., device='cuda:0')\n",
      "tensor(1., device='cuda:0')\n"
     ]
    }
   ],
   "source": [
    "output = get_adversarial_robustness('PGD',eps=8/255)"
   ]
  },
  {
   "cell_type": "code",
   "execution_count": 31,
   "id": "5668b2ad-86fb-46b1-8dd3-f0d93e7f824e",
   "metadata": {},
   "outputs": [],
   "source": [
    "\n",
    "pgd_advs = torch.from_numpy(output[1]).float()\n",
    "torch.save(pgd_advs, 'pgd_advs.pkl')"
   ]
  },
  {
   "cell_type": "code",
   "execution_count": 52,
   "id": "f1cff7dc-d8b5-477b-a03f-5fffced0b8b1",
   "metadata": {},
   "outputs": [
    {
     "name": "stdout",
     "output_type": "stream",
     "text": [
      "Splitting train and test data.\n",
      "Splitting train and val data.\n",
      "tensor(1., device='cuda:0')\n",
      "tensor(1., device='cuda:0')\n",
      "tensor(1., device='cuda:0')\n",
      "tensor(1., device='cuda:0')\n",
      "tensor(1., device='cuda:0')\n",
      "tensor(1., device='cuda:0')\n",
      "tensor(1., device='cuda:0')\n",
      "tensor(1., device='cuda:0')\n",
      "tensor(1., device='cuda:0')\n",
      "tensor(1., device='cuda:0')\n",
      "tensor(1., device='cuda:0')\n",
      "tensor(1., device='cuda:0')\n",
      "tensor(1., device='cuda:0')\n",
      "tensor(1., device='cuda:0')\n"
     ]
    }
   ],
   "source": [
    "output = get_adversarial_robustness('DF', confidence=.1,eps=1)\n",
    "df_advs = torch.from_numpy(output[1]).float()\n",
    "torch.save(pgd_advs, 'df_advs-overshoot-.1.pkl')"
   ]
  },
  {
   "cell_type": "code",
   "execution_count": 22,
   "id": "e7af14e0-2075-47ce-a348-30b56d3f9749",
   "metadata": {},
   "outputs": [
    {
     "name": "stdout",
     "output_type": "stream",
     "text": [
      "Splitting train and test data.\n",
      "Splitting train and val data.\n",
      "418.2131767272949\n",
      "Splitting train and test data.\n",
      "Splitting train and val data.\n",
      "ASR: 0.0 transfer-ASR:0.6851851851851852\n",
      "Splitting train and test data.\n",
      "Splitting train and val data.\n",
      "421.675372838974\n",
      "Splitting train and test data.\n",
      "Splitting train and val data.\n",
      "ASR: 0.0 transfer-ASR:0.6481481481481481\n",
      "Splitting train and test data.\n",
      "Splitting train and val data.\n",
      "419.2333416938782\n",
      "Splitting train and test data.\n",
      "Splitting train and val data.\n",
      "ASR: 0.0 transfer-ASR:0.6111111111111112\n",
      "Splitting train and test data.\n",
      "Splitting train and val data.\n",
      "411.7548382282257\n",
      "Splitting train and test data.\n",
      "Splitting train and val data.\n",
      "ASR: 0.0 transfer-ASR:0.5925925925925926\n",
      "Splitting train and test data.\n",
      "Splitting train and val data.\n",
      "409.1054780483246\n",
      "Splitting train and test data.\n",
      "Splitting train and val data.\n",
      "ASR: 0.0 transfer-ASR:0.5740740740740741\n",
      "Splitting train and test data.\n",
      "Splitting train and val data.\n",
      "406.5728840827942\n",
      "Splitting train and test data.\n",
      "Splitting train and val data.\n",
      "ASR: 0.0 transfer-ASR:0.5370370370370371\n",
      "Splitting train and test data.\n",
      "Splitting train and val data.\n",
      "405.3183674812317\n",
      "Splitting train and test data.\n",
      "Splitting train and val data.\n",
      "ASR: 0.0 transfer-ASR:0.5\n",
      "Splitting train and test data.\n",
      "Splitting train and val data.\n",
      "412.82691836357117\n",
      "Splitting train and test data.\n",
      "Splitting train and val data.\n",
      "ASR: 0.0 transfer-ASR:0.48148148148148145\n"
     ]
    }
   ],
   "source": [
    "for confidence in [0,.1,.2,.3,.4,.5,.6,.7]:\n",
    "    t0 = time.time()\n",
    "    output = get_adversarial_robustness(m,'CW',eps=1, confidence = confidence)\n",
    "    cw_advs = torch.from_numpy(output[1]).float()\n",
    "    torch.save(cw_advs, 'cw_advs-confidence-{confidence}.pkl')\n",
    "    print(time.time()-t0)\n",
    "    transformer = torch.hub.load('facebookresearch/dino:main', 'dino_vits8', verbose=False).to(device)\n",
    "    print(f'ASR: 1-{output[0]} transfer-ASR:1-{evaluate_advs(cw_advs)}')"
   ]
  },
  {
   "cell_type": "code",
   "execution_count": 28,
   "id": "432cc499-2bf7-45ec-aba8-2cfeb9dd9256",
   "metadata": {},
   "outputs": [
    {
     "name": "stdout",
     "output_type": "stream",
     "text": [
      "Splitting train and test data.\n",
      "Splitting train and val data.\n",
      "careful, reducing L0 norms not yet supported, therefore the unclipped adversarial examples and successes are returned\n",
      "ASR: 1.0\n",
      "time per batch: 83.92415714263916\n",
      "careful, reducing L0 norms not yet supported, therefore the unclipped adversarial examples and successes are returned\n",
      "ASR: 1.0\n",
      "time per batch: 81.33715319633484\n",
      "careful, reducing L0 norms not yet supported, therefore the unclipped adversarial examples and successes are returned\n",
      "ASR: 1.0\n",
      "time per batch: 85.74849605560303\n",
      "careful, reducing L0 norms not yet supported, therefore the unclipped adversarial examples and successes are returned\n",
      "ASR: 1.0\n",
      "time per batch: 78.50417113304138\n",
      "careful, reducing L0 norms not yet supported, therefore the unclipped adversarial examples and successes are returned\n",
      "ASR: 1.0\n",
      "time per batch: 216.78763890266418\n",
      "careful, reducing L0 norms not yet supported, therefore the unclipped adversarial examples and successes are returned\n",
      "ASR: 1.0\n",
      "time per batch: 219.35221457481384\n",
      "careful, reducing L0 norms not yet supported, therefore the unclipped adversarial examples and successes are returned\n",
      "ASR: 1.0\n",
      "time per batch: 82.22311735153198\n",
      "careful, reducing L0 norms not yet supported, therefore the unclipped adversarial examples and successes are returned\n",
      "ASR: 1.0\n",
      "time per batch: 219.49497175216675\n",
      "careful, reducing L0 norms not yet supported, therefore the unclipped adversarial examples and successes are returned\n",
      "ASR: 1.0\n",
      "time per batch: 75.93550086021423\n",
      "careful, reducing L0 norms not yet supported, therefore the unclipped adversarial examples and successes are returned\n",
      "ASR: 1.0\n",
      "time per batch: 78.19495606422424\n",
      "careful, reducing L0 norms not yet supported, therefore the unclipped adversarial examples and successes are returned\n",
      "ASR: 1.0\n",
      "time per batch: 81.22543573379517\n",
      "careful, reducing L0 norms not yet supported, therefore the unclipped adversarial examples and successes are returned\n",
      "ASR: 1.0\n",
      "time per batch: 84.53408694267273\n",
      "careful, reducing L0 norms not yet supported, therefore the unclipped adversarial examples and successes are returned\n",
      "ASR: 1.0\n",
      "time per batch: 140.9128143787384\n",
      "careful, reducing L0 norms not yet supported, therefore the unclipped adversarial examples and successes are returned\n",
      "ASR: 1.0\n",
      "time per batch: 100.8380286693573\n",
      "1629.3654277324677\n",
      "Splitting train and test data.\n",
      "Splitting train and val data.\n",
      "ASR: 1-0.0 transfer-ASR:1-0.4074074074074074\n",
      "Splitting train and test data.\n",
      "Splitting train and val data.\n",
      "careful, reducing L0 norms not yet supported, therefore the unclipped adversarial examples and successes are returned\n",
      "ASR: 1.0\n",
      "time per batch: 88.11106443405151\n",
      "careful, reducing L0 norms not yet supported, therefore the unclipped adversarial examples and successes are returned\n",
      "ASR: 1.0\n",
      "time per batch: 82.06790709495544\n",
      "careful, reducing L0 norms not yet supported, therefore the unclipped adversarial examples and successes are returned\n",
      "ASR: 1.0\n",
      "time per batch: 77.66398668289185\n",
      "careful, reducing L0 norms not yet supported, therefore the unclipped adversarial examples and successes are returned\n",
      "ASR: 1.0\n",
      "time per batch: 78.76949071884155\n",
      "careful, reducing L0 norms not yet supported, therefore the unclipped adversarial examples and successes are returned\n",
      "ASR: 1.0\n",
      "time per batch: 153.32363939285278\n",
      "careful, reducing L0 norms not yet supported, therefore the unclipped adversarial examples and successes are returned\n",
      "ASR: 1.0\n",
      "time per batch: 164.75697803497314\n",
      "careful, reducing L0 norms not yet supported, therefore the unclipped adversarial examples and successes are returned\n",
      "ASR: 1.0\n",
      "time per batch: 82.65889310836792\n",
      "careful, reducing L0 norms not yet supported, therefore the unclipped adversarial examples and successes are returned\n",
      "ASR: 1.0\n",
      "time per batch: 127.31429719924927\n",
      "careful, reducing L0 norms not yet supported, therefore the unclipped adversarial examples and successes are returned\n",
      "ASR: 1.0\n",
      "time per batch: 68.50854015350342\n",
      "careful, reducing L0 norms not yet supported, therefore the unclipped adversarial examples and successes are returned\n",
      "ASR: 1.0\n",
      "time per batch: 63.500006675720215\n",
      "careful, reducing L0 norms not yet supported, therefore the unclipped adversarial examples and successes are returned\n",
      "ASR: 1.0\n",
      "time per batch: 77.98827052116394\n",
      "careful, reducing L0 norms not yet supported, therefore the unclipped adversarial examples and successes are returned\n",
      "ASR: 1.0\n",
      "time per batch: 72.63456225395203\n",
      "careful, reducing L0 norms not yet supported, therefore the unclipped adversarial examples and successes are returned\n",
      "ASR: 1.0\n",
      "time per batch: 167.2218792438507\n",
      "careful, reducing L0 norms not yet supported, therefore the unclipped adversarial examples and successes are returned\n",
      "ASR: 1.0\n",
      "time per batch: 71.97209787368774\n",
      "1376.848388671875\n",
      "Splitting train and test data.\n",
      "Splitting train and val data.\n",
      "ASR: 1-0.0 transfer-ASR:1-0.37037037037037035\n",
      "Splitting train and test data.\n",
      "Splitting train and val data.\n",
      "careful, reducing L0 norms not yet supported, therefore the unclipped adversarial examples and successes are returned\n",
      "ASR: 1.0\n",
      "time per batch: 85.93295693397522\n",
      "careful, reducing L0 norms not yet supported, therefore the unclipped adversarial examples and successes are returned\n",
      "ASR: 1.0\n",
      "time per batch: 80.23038816452026\n",
      "careful, reducing L0 norms not yet supported, therefore the unclipped adversarial examples and successes are returned\n",
      "ASR: 1.0\n",
      "time per batch: 85.84407830238342\n",
      "careful, reducing L0 norms not yet supported, therefore the unclipped adversarial examples and successes are returned\n",
      "ASR: 1.0\n",
      "time per batch: 70.93729138374329\n",
      "careful, reducing L0 norms not yet supported, therefore the unclipped adversarial examples and successes are returned\n",
      "ASR: 1.0\n",
      "time per batch: 215.14468598365784\n",
      "careful, reducing L0 norms not yet supported, therefore the unclipped adversarial examples and successes are returned\n",
      "ASR: 1.0\n",
      "time per batch: 112.92826128005981\n",
      "careful, reducing L0 norms not yet supported, therefore the unclipped adversarial examples and successes are returned\n",
      "ASR: 1.0\n",
      "time per batch: 82.98048877716064\n",
      "careful, reducing L0 norms not yet supported, therefore the unclipped adversarial examples and successes are returned\n",
      "ASR: 1.0\n",
      "time per batch: 217.29526543617249\n",
      "careful, reducing L0 norms not yet supported, therefore the unclipped adversarial examples and successes are returned\n",
      "ASR: 1.0\n",
      "time per batch: 72.5629141330719\n",
      "careful, reducing L0 norms not yet supported, therefore the unclipped adversarial examples and successes are returned\n",
      "ASR: 1.0\n",
      "time per batch: 77.82167148590088\n",
      "careful, reducing L0 norms not yet supported, therefore the unclipped adversarial examples and successes are returned\n",
      "ASR: 1.0\n",
      "time per batch: 81.2271511554718\n",
      "careful, reducing L0 norms not yet supported, therefore the unclipped adversarial examples and successes are returned\n",
      "ASR: 1.0\n",
      "time per batch: 76.17010045051575\n",
      "careful, reducing L0 norms not yet supported, therefore the unclipped adversarial examples and successes are returned\n",
      "ASR: 1.0\n",
      "time per batch: 143.09265613555908\n",
      "careful, reducing L0 norms not yet supported, therefore the unclipped adversarial examples and successes are returned\n",
      "ASR: 1.0\n",
      "time per batch: 91.43104481697083\n",
      "1493.9688215255737\n",
      "Splitting train and test data.\n",
      "Splitting train and val data.\n",
      "ASR: 1-0.0 transfer-ASR:1-0.2962962962962963\n"
     ]
    }
   ],
   "source": [
    "for confidence in [1.1,1.3,1.5]:\n",
    "    t0 = time.time()\n",
    "    output = get_adversarial_robustness(m,'BB0',eps=100, confidence = confidence)\n",
    "    cw_advs = torch.from_numpy(output[1]).float()\n",
    "    torch.save(cw_advs, 'cw_advs-confidence-.2.pkl')\n",
    "    print(time.time()-t0)\n",
    "    transformer = torch.hub.load('facebookresearch/dino:main', 'dino_vits8', verbose=False).to(device)\n",
    "    print(f'ASR: 1-{output[0]} transfer-ASR:1-{evaluate_advs(cw_advs)}')"
   ]
  },
  {
   "cell_type": "code",
   "execution_count": null,
   "id": "1c5d3884-8f12-49c5-9ddc-374efef095fd",
   "metadata": {},
   "outputs": [],
   "source": []
  },
  {
   "cell_type": "code",
   "execution_count": null,
   "id": "7f06773c-4a4e-4080-9e4a-0de2ae427021",
   "metadata": {},
   "outputs": [],
   "source": []
  },
  {
   "cell_type": "code",
   "execution_count": 17,
   "id": "5f8acafa-f30f-44b3-8bb3-24523c5d6a41",
   "metadata": {},
   "outputs": [],
   "source": [
    "del transformer\n",
    "torch.cuda.empty_cache() # PyTorch thing\n"
   ]
  },
  {
   "cell_type": "code",
   "execution_count": 68,
   "id": "558f00c1-1839-4933-a5ab-3562a15fd7c5",
   "metadata": {},
   "outputs": [
    {
     "name": "stdout",
     "output_type": "stream",
     "text": [
      "Collecting numpy\n",
      "  Using cached numpy-1.26.1-cp39-cp39-manylinux_2_17_x86_64.manylinux2014_x86_64.whl.metadata (61 kB)\n",
      "Using cached numpy-1.26.1-cp39-cp39-manylinux_2_17_x86_64.manylinux2014_x86_64.whl (18.2 MB)\n",
      "Installing collected packages: numpy\n",
      "  Attempting uninstall: numpy\n",
      "    Found existing installation: numpy 1.21.0\n",
      "    Uninstalling numpy-1.21.0:\n",
      "      Successfully uninstalled numpy-1.21.0\n",
      "Successfully installed numpy-1.26.1\n"
     ]
    }
   ],
   "source": []
  },
  {
   "cell_type": "code",
   "execution_count": 158,
   "id": "90b5be26-fb96-4be3-a59e-7412eabbc8bf",
   "metadata": {},
   "outputs": [],
   "source": [
    "cw_advs = torch.from_numpy(output[1]).float()\n",
    "torch.save(cw_advs, 'cw_advs.pkl')"
   ]
  },
  {
   "cell_type": "code",
   "execution_count": 71,
   "id": "64eea5b3-b77e-4e60-986e-692ead79ecb6",
   "metadata": {},
   "outputs": [],
   "source": [
    "cw_advs = torch.load('cw_advs-confidence-.1.pkl')"
   ]
  },
  {
   "cell_type": "code",
   "execution_count": 72,
   "id": "10f2b65e-3882-4495-b918-c684b93ac468",
   "metadata": {},
   "outputs": [],
   "source": [
    "import torchvision.transforms.functional as TF\n",
    "def evaluate_advs():\n",
    "    normalize_values = ((0.6237, 0.6076, 0.5367), (0.1759, 0.1925, 0.3011))\n",
    "    normalized_advs = TF.normalize(cw_advs, mean =normalize_values[0], std=normalize_values[1])\n",
    "    test_loader = get_seeded_data_loader(dataset, \"test\", GLOBAL_SEED, resize=RESIZE, batch_size=len(normalized_advs), normalize=False)\n",
    "    benign_labels = next(iter(test_loader))[1]\n",
    "    adv_test_dataset = torch.utils.data.TensorDataset(normalized_advs, benign_labels)\n",
    "    adv_test_dataloader = torch.utils.data.DataLoader(adv_test_dataset, batch_size=10)\n",
    "    adv_embeddings, ys = get_embeddings(transformer, adv_test_dataloader,TEST_SAMPLE_SIZE)\n",
    "    acc = clf.score(adv_embeddings, ys)\n",
    "    return acc"
   ]
  },
  {
   "cell_type": "code",
   "execution_count": 73,
   "id": "fe1173e9-9303-4f15-a97e-fa0c1cc55c27",
   "metadata": {},
   "outputs": [
    {
     "name": "stdout",
     "output_type": "stream",
     "text": [
      "Splitting train and test data.\n",
      "Splitting train and val data.\n"
     ]
    },
    {
     "data": {
      "text/plain": [
       "0.7592592592592593"
      ]
     },
     "execution_count": 73,
     "metadata": {},
     "output_type": "execute_result"
    }
   ],
   "source": [
    "evaluate_advs()"
   ]
  },
  {
   "cell_type": "code",
   "execution_count": 56,
   "id": "256a7bbb-6ac1-42d9-ab0f-12f010db30fa",
   "metadata": {},
   "outputs": [],
   "source": [
    "import torchvision.transforms.functional as TF\n",
    "normalize_values = ((0.6237, 0.6076, 0.5367), (0.1759, 0.1925, 0.3011))\n",
    "normalized_advs = TF.normalize(bb0_advs, mean =normalize_values[0], std=normalize_values[1])\n"
   ]
  },
  {
   "cell_type": "code",
   "execution_count": 57,
   "id": "e4e790f9-d26b-4f26-ad61-d8f6d1a63a1d",
   "metadata": {},
   "outputs": [
    {
     "name": "stdout",
     "output_type": "stream",
     "text": [
      "Splitting train and test data.\n",
      "Splitting train and val data.\n"
     ]
    }
   ],
   "source": [
    "test_loader = get_seeded_data_loader(dataset, \"test\", GLOBAL_SEED, resize=RESIZE, batch_size=4, normalize=False)\n",
    "benign_samples = next(iter(test_loader))[0]\n",
    "benign_labels = next(iter(test_loader))[1]"
   ]
  },
  {
   "cell_type": "code",
   "execution_count": 58,
   "id": "0006fa7d-cc8f-4057-a5ff-88fbe55eba71",
   "metadata": {},
   "outputs": [],
   "source": [
    "adv_test_dataset = torch.utils.data.TensorDataset(normalized_advs, benign_labels)\n",
    "\n",
    "adv_test_dataloader = torch.utils.data.DataLoader(adv_test_dataset, batch_size=10)"
   ]
  },
  {
   "cell_type": "code",
   "execution_count": 59,
   "id": "5a572b67-4b51-4cbd-ad3c-8ef733c51a50",
   "metadata": {},
   "outputs": [],
   "source": [
    "adv_embeddings, ys = get_embeddings(transformer, adv_test_dataloader,TEST_SAMPLE_SIZE)"
   ]
  },
  {
   "cell_type": "code",
   "execution_count": 60,
   "id": "94cc6c1f-42a5-4f13-8b3e-b1e56bd6ec72",
   "metadata": {},
   "outputs": [
    {
     "data": {
      "text/plain": [
       "0.75"
      ]
     },
     "execution_count": 60,
     "metadata": {},
     "output_type": "execute_result"
    }
   ],
   "source": [
    "#preds = clf.predict(adv_embeddings)\n",
    "acc = clf.score(adv_embeddings, ys)\n",
    "acc"
   ]
  },
  {
   "cell_type": "code",
   "execution_count": null,
   "id": "e1ae51a2-8f4b-46b6-a5de-0377942f2162",
   "metadata": {},
   "outputs": [],
   "source": []
  },
  {
   "cell_type": "code",
   "execution_count": null,
   "id": "5b516ac7-214b-417f-b738-22253a8bbebc",
   "metadata": {},
   "outputs": [],
   "source": []
  },
  {
   "cell_type": "code",
   "execution_count": null,
   "id": "c20119b3-a5d6-497d-be62-8fcfec2dbffe",
   "metadata": {},
   "outputs": [],
   "source": []
  },
  {
   "cell_type": "code",
   "execution_count": null,
   "id": "94fd00de-b7c1-458c-85c7-b344c4531fdd",
   "metadata": {},
   "outputs": [],
   "source": []
  },
  {
   "cell_type": "code",
   "execution_count": null,
   "id": "21e7b0b8-1d84-4f8c-a8f6-5967df3daac2",
   "metadata": {},
   "outputs": [],
   "source": []
  },
  {
   "cell_type": "code",
   "execution_count": null,
   "id": "a4dbe385-035c-4bc7-b7b0-a143daa20a02",
   "metadata": {},
   "outputs": [],
   "source": [
    "test_loader = get_seeded_data_loader(dataset, \"test\", GLOBAL_SEED, resize=RESIZE, batch_size=BATCH_SIZE)\n",
    "train_loader = get_seeded_data_loader(dataset, \"train\", GLOBAL_SEED, resize=RESIZE, batch_size=BATCH_SIZE)\n",
    "val_loader = get_seeded_data_loader(dataset, \"val\", GLOBAL_SEED, resize=RESIZE, batch_size=BATCH_SIZE)"
   ]
  },
  {
   "cell_type": "code",
   "execution_count": 50,
   "id": "6aad82da-3f5d-4e40-8604-19d1dd28519e",
   "metadata": {},
   "outputs": [],
   "source": [
    "transformer = torch.hub.load('facebookresearch/dino:main', 'dino_vits8', verbose=False).to(device)"
   ]
  },
  {
   "cell_type": "code",
   "execution_count": 9,
   "id": "97ea5083-ab9c-4d92-8176-60ead3409d62",
   "metadata": {},
   "outputs": [],
   "source": []
  },
  {
   "cell_type": "code",
   "execution_count": 15,
   "id": "d7053df4-99b6-4a2d-af3d-1832552ca071",
   "metadata": {},
   "outputs": [
    {
     "data": {
      "text/plain": [
       "(96.29629629629629, 0.13909855538180896)"
      ]
     },
     "execution_count": 15,
     "metadata": {},
     "output_type": "execute_result"
    }
   ],
   "source": [
    "criterion = nn.CrossEntropyLoss()\n",
    "accuracy, loss = _evaluate_model(m, test_loader, device, criterion)\n",
    "accuracy, loss"
   ]
  },
  {
   "cell_type": "code",
   "execution_count": null,
   "id": "8b182ab4-105d-4589-af69-f4a044095920",
   "metadata": {},
   "outputs": [],
   "source": []
  },
  {
   "cell_type": "code",
   "execution_count": 36,
   "id": "36cd2bb4-f80a-47eb-931a-c90953ccfbba",
   "metadata": {},
   "outputs": [
    {
     "name": "stdout",
     "output_type": "stream",
     "text": [
      "normalize values ((0.6237, 0.6076, 0.5367), (0.1759, 0.1925, 0.3011))\n",
      "Splitting train and test data.\n",
      "Splitting train and val data.\n",
      "normalize values ((0.6237, 0.6076, 0.5367), (0.1759, 0.1925, 0.3011))\n",
      "Splitting train and test data.\n",
      "Splitting train and val data.\n",
      "normalize values ((0.6237, 0.6076, 0.5367), (0.1759, 0.1925, 0.3011))\n",
      "Splitting train and test data.\n",
      "Splitting train and val data.\n"
     ]
    }
   ],
   "source": [
    "test_loader = get_seeded_data_loader(dataset, \"test\", GLOBAL_SEED, resize=RESIZE, batch_size=60)\n",
    "train_loader = get_seeded_data_loader(dataset, \"train\", GLOBAL_SEED, resize=RESIZE, batch_size=176)\n",
    "val_loader = get_seeded_data_loader(dataset, \"val\", GLOBAL_SEED, resize=RESIZE, batch_size=60)"
   ]
  },
  {
   "cell_type": "code",
   "execution_count": 17,
   "id": "9f9097ae-c439-4662-98da-1fa0bed8b051",
   "metadata": {},
   "outputs": [],
   "source": [
    "transformer = torch.hub.load('facebookresearch/dino:main', 'dino_vits8', verbose=False).to(device)\n",
    "m = DinoClassifier(transformer, 384, 4)\n",
    "for param in m.feature_extractor.parameters():\n",
    "    param.requires_grad = False"
   ]
  },
  {
   "cell_type": "code",
   "execution_count": 18,
   "id": "ad373fc3-f47a-447c-9234-e8947068039d",
   "metadata": {},
   "outputs": [],
   "source": [
    "\n",
    "from skorch import NeuralNetClassifier\n",
    "net = NeuralNetClassifier(\n",
    "    m,\n",
    "    max_epochs=30,\n",
    "    criterion=nn.CrossEntropyLoss(),\n",
    "    optimizer=optim.Adam,\n",
    "    batch_size=8,\n",
    "    # Shuffle training data on each epoch\n",
    "    #iterator_train__shuffle=True,\n",
    ")"
   ]
  },
  {
   "cell_type": "code",
   "execution_count": null,
   "id": "8877a055-09ca-4fd9-a134-6e5ca74bf53b",
   "metadata": {},
   "outputs": [],
   "source": []
  },
  {
   "cell_type": "code",
   "execution_count": 19,
   "id": "6f83bf29-1f99-4208-a6a4-9d6b4e05e3f0",
   "metadata": {},
   "outputs": [],
   "source": [
    "X_train_only,y_train_only = next(iter(train_loader))\n",
    "X_val,y_val = next(iter(val_loader))\n",
    "X_train, y_train = np.concatenate((X_train_only, X_val)), np.concatenate((y_train_only, y_val))"
   ]
  },
  {
   "cell_type": "code",
   "execution_count": 20,
   "id": "678d2036-7a2d-4981-9cae-50a61c7ff0bd",
   "metadata": {},
   "outputs": [
    {
     "name": "stdout",
     "output_type": "stream",
     "text": [
      "  epoch    train_loss    valid_acc    valid_loss      dur\n",
      "-------  ------------  -----------  ------------  -------\n",
      "      1        \u001b[36m2.5818\u001b[0m       \u001b[32m0.7273\u001b[0m        \u001b[35m1.6660\u001b[0m  27.3533\n",
      "      2        \u001b[36m1.5318\u001b[0m       \u001b[32m0.7955\u001b[0m        \u001b[35m0.6161\u001b[0m  27.5931\n",
      "      3        \u001b[36m0.9618\u001b[0m       0.7955        2.1884  27.5277\n",
      "      4        \u001b[36m0.9144\u001b[0m       0.7727        2.5726  27.4869\n",
      "      5        2.2796       0.7727        4.5954  27.3632\n",
      "      6        2.5071       0.7955        4.5149  27.3788\n",
      "      7        1.5210       \u001b[32m0.8409\u001b[0m        3.1583  27.4693\n",
      "      8        0.9557       0.7955        2.7048  27.4665\n",
      "      9        1.0204       0.8409        2.6092  27.6374\n",
      "     10        \u001b[36m0.8701\u001b[0m       \u001b[32m0.8636\u001b[0m        1.4097  27.6310\n",
      "     11        \u001b[36m0.5128\u001b[0m       0.8636        \u001b[35m0.6001\u001b[0m  27.4725\n",
      "     12        \u001b[36m0.2819\u001b[0m       0.8636        \u001b[35m0.5439\u001b[0m  27.5361\n",
      "     13        \u001b[36m0.1919\u001b[0m       0.8636        0.5792  27.4407\n",
      "     14        \u001b[36m0.1310\u001b[0m       0.8636        0.5839  27.4604\n",
      "     15        \u001b[36m0.1198\u001b[0m       0.8636        0.6073  27.4729\n",
      "     16        \u001b[36m0.1025\u001b[0m       0.8636        \u001b[35m0.5376\u001b[0m  27.5644\n",
      "     17        0.1032       0.8636        \u001b[35m0.4698\u001b[0m  27.7101\n",
      "     18        0.1029       0.8636        \u001b[35m0.4396\u001b[0m  27.6125\n",
      "     19        \u001b[36m0.0742\u001b[0m       0.8636        0.4554  27.7177\n",
      "     20        \u001b[36m0.0467\u001b[0m       0.8636        0.5276  27.7090\n",
      "     21        \u001b[36m0.0204\u001b[0m       0.8182        0.6152  27.7377\n",
      "     22        \u001b[36m0.0076\u001b[0m       0.8409        0.5918  27.6089\n",
      "     23        \u001b[36m0.0028\u001b[0m       0.8636        0.5002  26.9992\n",
      "     24        0.0040       0.8409        0.5660  27.1470\n",
      "     25        \u001b[36m0.0022\u001b[0m       0.8636        0.5136  27.2548\n",
      "     26        0.0027       0.8409        0.5502  27.0244\n",
      "     27        \u001b[36m0.0020\u001b[0m       0.8636        0.5239  27.7223\n",
      "     28        0.0021       0.8409        0.5418  27.7831\n",
      "     29        \u001b[36m0.0018\u001b[0m       0.8636        0.5307  27.5475\n",
      "     30        \u001b[36m0.0017\u001b[0m       0.8636        0.5379  27.6320\n"
     ]
    },
    {
     "data": {
      "text/plain": [
       "<class 'skorch.classifier.NeuralNetClassifier'>[initialized](\n",
       "  module_=DinoClassifier(\n",
       "    (feature_extractor): VisionTransformer(\n",
       "      (patch_embed): PatchEmbed(\n",
       "        (proj): Conv2d(3, 384, kernel_size=(8, 8), stride=(8, 8))\n",
       "      )\n",
       "      (pos_drop): Dropout(p=0.0, inplace=False)\n",
       "      (blocks): ModuleList(\n",
       "        (0-11): 12 x Block(\n",
       "          (norm1): LayerNorm((384,), eps=1e-06, elementwise_affine=True)\n",
       "          (attn): Attention(\n",
       "            (qkv): Linear(in_features=384, out_features=1152, bias=True)\n",
       "            (attn_drop): Dropout(p=0.0, inplace=False)\n",
       "            (proj): Linear(in_features=384, out_features=384, bias=True)\n",
       "            (proj_drop): Dropout(p=0.0, inplace=False)\n",
       "          )\n",
       "          (drop_path): Identity()\n",
       "          (norm2): LayerNorm((384,), eps=1e-06, elementwise_affine=True)\n",
       "          (mlp): Mlp(\n",
       "            (fc1): Linear(in_features=384, out_features=1536, bias=True)\n",
       "            (act): GELU(approximate='none')\n",
       "            (fc2): Linear(in_features=1536, out_features=384, bias=True)\n",
       "            (drop): Dropout(p=0.0, inplace=False)\n",
       "          )\n",
       "        )\n",
       "      )\n",
       "      (norm): LayerNorm((384,), eps=1e-06, elementwise_affine=True)\n",
       "      (head): Identity()\n",
       "    )\n",
       "    (classifier): Linear(in_features=384, out_features=4, bias=True)\n",
       "  ),\n",
       ")"
      ]
     },
     "execution_count": 20,
     "metadata": {},
     "output_type": "execute_result"
    }
   ],
   "source": [
    "\n",
    "net.fit(X_train, y_train)"
   ]
  },
  {
   "cell_type": "code",
   "execution_count": 2,
   "id": "87a7305e-9e28-4c23-a1f0-46511b35cc10",
   "metadata": {},
   "outputs": [
    {
     "ename": "NameError",
     "evalue": "name 'dataset' is not defined",
     "output_type": "error",
     "traceback": [
      "\u001b[0;31m---------------------------------------------------------------------------\u001b[0m",
      "\u001b[0;31mNameError\u001b[0m                                 Traceback (most recent call last)",
      "Cell \u001b[0;32mIn[2], line 1\u001b[0m\n\u001b[0;32m----> 1\u001b[0m test_loader \u001b[38;5;241m=\u001b[39m get_seeded_data_loader(\u001b[43mdataset\u001b[49m, \u001b[38;5;124m\"\u001b[39m\u001b[38;5;124mtest\u001b[39m\u001b[38;5;124m\"\u001b[39m, GLOBAL_SEED, resize\u001b[38;5;241m=\u001b[39mRESIZE, batch_size\u001b[38;5;241m=\u001b[39m\u001b[38;5;241m7\u001b[39m\u001b[38;5;241m*\u001b[39m\u001b[38;5;241m8\u001b[39m)\n\u001b[1;32m      2\u001b[0m X_test, y_test \u001b[38;5;241m=\u001b[39m \u001b[38;5;28mnext\u001b[39m(\u001b[38;5;28miter\u001b[39m(test_loader))\n",
      "\u001b[0;31mNameError\u001b[0m: name 'dataset' is not defined"
     ]
    }
   ],
   "source": [
    "test_loader = get_seeded_data_loader(dataset, \"test\", GLOBAL_SEED, resize=RESIZE, batch_size=7*8)\n",
    "X_test, y_test = next(iter(test_loader))"
   ]
  },
  {
   "cell_type": "code",
   "execution_count": 22,
   "id": "005c01cb-2d84-4913-ac5f-a3b449f87145",
   "metadata": {},
   "outputs": [],
   "source": [
    "test_loader = get_seeded_data_loader(dataset, \"test\", GLOBAL_SEED, resize=RESIZE, batch_size=7*8)\n",
    "X_test, y_test = next(iter(test_loader))\n",
    "acc = net.score(X_test, y_test)"
   ]
  },
  {
   "cell_type": "code",
   "execution_count": 23,
   "id": "3c19416e-5a4e-4612-831c-41369ad4406a",
   "metadata": {},
   "outputs": [
    {
     "data": {
      "text/plain": [
       "0.9814814814814815"
      ]
     },
     "execution_count": 23,
     "metadata": {},
     "output_type": "execute_result"
    }
   ],
   "source": [
    "acc"
   ]
  },
  {
   "cell_type": "code",
   "execution_count": 34,
   "id": "004a6ffa-3bb0-4266-90e0-f4082ef9c5e5",
   "metadata": {},
   "outputs": [],
   "source": [
    "transformer = torch.hub.load('facebookresearch/dino:main', 'dino_vits8', verbose=False).cuda()\n"
   ]
  },
  {
   "cell_type": "code",
   "execution_count": 6,
   "id": "02fc7fbc-1f6e-4550-9366-b0bc7b9b2c22",
   "metadata": {},
   "outputs": [],
   "source": [
    "\n"
   ]
  },
  {
   "cell_type": "code",
   "execution_count": 7,
   "id": "778fb20a-cebe-45fc-8066-73f0b4bc67e9",
   "metadata": {},
   "outputs": [
    {
     "name": "stdout",
     "output_type": "stream",
     "text": [
      "normalize values ((0.6237, 0.6076, 0.5367), (0.1759, 0.1925, 0.3011))\n",
      "Splitting train and test data.\n",
      "Splitting train and val data.\n"
     ]
    }
   ],
   "source": [
    "train_loader = get_seeded_data_loader(dataset, \"train\", GLOBAL_SEED, batch_size=BATCH_SIZE, resize=RESIZE)\n",
    "X_train, y_train = get_embeddings(transformer, train_loader, TRAIN_SAMPLE_SIZE, batch_size=BATCH_SIZE)"
   ]
  },
  {
   "cell_type": "code",
   "execution_count": 8,
   "id": "abddefdb-27d5-45d2-a560-c677280d4f97",
   "metadata": {},
   "outputs": [],
   "source": [
    "clf = MLPClassifier(random_state=GLOBAL_SEED, max_iter=10000, hidden_layer_sizes=(20), activation='relu', solver='adam')"
   ]
  },
  {
   "cell_type": "code",
   "execution_count": 9,
   "id": "a7cd4d1c-86d9-4ad6-a080-63c0a43484ee",
   "metadata": {},
   "outputs": [
    {
     "data": {
      "text/html": [
       "<style>#sk-container-id-1 {color: black;background-color: white;}#sk-container-id-1 pre{padding: 0;}#sk-container-id-1 div.sk-toggleable {background-color: white;}#sk-container-id-1 label.sk-toggleable__label {cursor: pointer;display: block;width: 100%;margin-bottom: 0;padding: 0.3em;box-sizing: border-box;text-align: center;}#sk-container-id-1 label.sk-toggleable__label-arrow:before {content: \"▸\";float: left;margin-right: 0.25em;color: #696969;}#sk-container-id-1 label.sk-toggleable__label-arrow:hover:before {color: black;}#sk-container-id-1 div.sk-estimator:hover label.sk-toggleable__label-arrow:before {color: black;}#sk-container-id-1 div.sk-toggleable__content {max-height: 0;max-width: 0;overflow: hidden;text-align: left;background-color: #f0f8ff;}#sk-container-id-1 div.sk-toggleable__content pre {margin: 0.2em;color: black;border-radius: 0.25em;background-color: #f0f8ff;}#sk-container-id-1 input.sk-toggleable__control:checked~div.sk-toggleable__content {max-height: 200px;max-width: 100%;overflow: auto;}#sk-container-id-1 input.sk-toggleable__control:checked~label.sk-toggleable__label-arrow:before {content: \"▾\";}#sk-container-id-1 div.sk-estimator input.sk-toggleable__control:checked~label.sk-toggleable__label {background-color: #d4ebff;}#sk-container-id-1 div.sk-label input.sk-toggleable__control:checked~label.sk-toggleable__label {background-color: #d4ebff;}#sk-container-id-1 input.sk-hidden--visually {border: 0;clip: rect(1px 1px 1px 1px);clip: rect(1px, 1px, 1px, 1px);height: 1px;margin: -1px;overflow: hidden;padding: 0;position: absolute;width: 1px;}#sk-container-id-1 div.sk-estimator {font-family: monospace;background-color: #f0f8ff;border: 1px dotted black;border-radius: 0.25em;box-sizing: border-box;margin-bottom: 0.5em;}#sk-container-id-1 div.sk-estimator:hover {background-color: #d4ebff;}#sk-container-id-1 div.sk-parallel-item::after {content: \"\";width: 100%;border-bottom: 1px solid gray;flex-grow: 1;}#sk-container-id-1 div.sk-label:hover label.sk-toggleable__label {background-color: #d4ebff;}#sk-container-id-1 div.sk-serial::before {content: \"\";position: absolute;border-left: 1px solid gray;box-sizing: border-box;top: 0;bottom: 0;left: 50%;z-index: 0;}#sk-container-id-1 div.sk-serial {display: flex;flex-direction: column;align-items: center;background-color: white;padding-right: 0.2em;padding-left: 0.2em;position: relative;}#sk-container-id-1 div.sk-item {position: relative;z-index: 1;}#sk-container-id-1 div.sk-parallel {display: flex;align-items: stretch;justify-content: center;background-color: white;position: relative;}#sk-container-id-1 div.sk-item::before, #sk-container-id-1 div.sk-parallel-item::before {content: \"\";position: absolute;border-left: 1px solid gray;box-sizing: border-box;top: 0;bottom: 0;left: 50%;z-index: -1;}#sk-container-id-1 div.sk-parallel-item {display: flex;flex-direction: column;z-index: 1;position: relative;background-color: white;}#sk-container-id-1 div.sk-parallel-item:first-child::after {align-self: flex-end;width: 50%;}#sk-container-id-1 div.sk-parallel-item:last-child::after {align-self: flex-start;width: 50%;}#sk-container-id-1 div.sk-parallel-item:only-child::after {width: 0;}#sk-container-id-1 div.sk-dashed-wrapped {border: 1px dashed gray;margin: 0 0.4em 0.5em 0.4em;box-sizing: border-box;padding-bottom: 0.4em;background-color: white;}#sk-container-id-1 div.sk-label label {font-family: monospace;font-weight: bold;display: inline-block;line-height: 1.2em;}#sk-container-id-1 div.sk-label-container {text-align: center;}#sk-container-id-1 div.sk-container {/* jupyter's `normalize.less` sets `[hidden] { display: none; }` but bootstrap.min.css set `[hidden] { display: none !important; }` so we also need the `!important` here to be able to override the default hidden behavior on the sphinx rendered scikit-learn.org. See: https://github.com/scikit-learn/scikit-learn/issues/21755 */display: inline-block !important;position: relative;}#sk-container-id-1 div.sk-text-repr-fallback {display: none;}</style><div id=\"sk-container-id-1\" class=\"sk-top-container\"><div class=\"sk-text-repr-fallback\"><pre>MLPClassifier(hidden_layer_sizes=20, max_iter=10000, random_state=1)</pre><b>In a Jupyter environment, please rerun this cell to show the HTML representation or trust the notebook. <br />On GitHub, the HTML representation is unable to render, please try loading this page with nbviewer.org.</b></div><div class=\"sk-container\" hidden><div class=\"sk-item\"><div class=\"sk-estimator sk-toggleable\"><input class=\"sk-toggleable__control sk-hidden--visually\" id=\"sk-estimator-id-1\" type=\"checkbox\" checked><label for=\"sk-estimator-id-1\" class=\"sk-toggleable__label sk-toggleable__label-arrow\">MLPClassifier</label><div class=\"sk-toggleable__content\"><pre>MLPClassifier(hidden_layer_sizes=20, max_iter=10000, random_state=1)</pre></div></div></div></div></div>"
      ],
      "text/plain": [
       "MLPClassifier(hidden_layer_sizes=20, max_iter=10000, random_state=1)"
      ]
     },
     "execution_count": 9,
     "metadata": {},
     "output_type": "execute_result"
    }
   ],
   "source": [
    "clf.fit(X_train, y_train)"
   ]
  },
  {
   "cell_type": "code",
   "execution_count": 10,
   "id": "1819ddd7-af2c-4fa7-98c9-36545630630a",
   "metadata": {},
   "outputs": [],
   "source": [
    "X_test, y_test = get_embeddings(transformer, test_loader, TEST_SAMPLE_SIZE, batch_size=500)"
   ]
  },
  {
   "cell_type": "code",
   "execution_count": 11,
   "id": "c5f82eb5-9d20-49cf-ba0e-7c748750936b",
   "metadata": {},
   "outputs": [],
   "source": [
    "preds = clf.predict(X_test)"
   ]
  },
  {
   "cell_type": "code",
   "execution_count": 12,
   "id": "30a60264-9266-4ffb-90e7-99eee11833df",
   "metadata": {},
   "outputs": [
    {
     "data": {
      "text/plain": [
       "0.9444444444444444"
      ]
     },
     "execution_count": 12,
     "metadata": {},
     "output_type": "execute_result"
    }
   ],
   "source": [
    "acc = clf.score(X_test, y_test)\n",
    "acc"
   ]
  },
  {
   "cell_type": "code",
   "execution_count": 13,
   "id": "5134d124-6c64-4488-8cda-d94c11e13073",
   "metadata": {},
   "outputs": [
    {
     "name": "stdout",
     "output_type": "stream",
     "text": [
      "normalize values ((0.6237, 0.6076, 0.5367), (0.1759, 0.1925, 0.3011))\n",
      "Splitting train and test data.\n",
      "Splitting train and val data.\n",
      "normalize values ((0.6237, 0.6076, 0.5367), (0.1759, 0.1925, 0.3011))\n",
      "Splitting train and test data.\n",
      "Splitting train and val data.\n",
      "0.9074074074074074\n"
     ]
    }
   ],
   "source": [
    "import warnings\n",
    "warnings.filterwarnings(\"ignore\", category=UserWarning)\n",
    "\n",
    "import numpy as np\n",
    "import torch\n",
    "from sklearn.metrics import precision_recall_fscore_support\n",
    "from sklearn.neural_network import MLPClassifier\n",
    "from sklearn.linear_model import LogisticRegression\n",
    "from dino_experiments.util import get_embeddings, get_seeded_data_loader, Logger, AVAILABLE_DATASETS\n",
    "GLOBAL_SEED = 42\n",
    "RESIZE = True\n",
    "BATCH_SIZE = 8\n",
    "TEST_SAMPLE_SIZE = VAL_SAMPLE_SIZE = TRAIN_SAMPLE_SIZE = -1\n",
    "\n",
    "device = 'cuda' if torch.cuda.is_available() else 'cpu'\n",
    "dataset = 'fayoum'\n",
    "\n",
    "test_loader = get_seeded_data_loader(dataset, \"test\", GLOBAL_SEED, resize=RESIZE, batch_size=BATCH_SIZE)\n",
    "transformers = {'dino_vits8': torch.hub.load('facebookresearch/dino:main', 'dino_vits8', verbose=False)}\n",
    "transformer = list(transformers.values())[0]\n",
    "transformer.to(device)\n",
    "clf = MLPClassifier(random_state=GLOBAL_SEED, max_iter=10000)\n",
    "\n",
    "X_test, y_test = get_embeddings(transformer, test_loader, TEST_SAMPLE_SIZE, batch_size=BATCH_SIZE)\n",
    "\n",
    "train_loader = get_seeded_data_loader(dataset, \"train\", GLOBAL_SEED, batch_size=BATCH_SIZE, resize=RESIZE)\n",
    "X_train, y_train = get_embeddings(transformer, train_loader, TRAIN_SAMPLE_SIZE, batch_size=BATCH_SIZE)\n",
    "\n",
    "clf.fit(X_train, y_train)\n",
    "\n",
    "preds = clf.predict(X_test)\n",
    "\n",
    "acc = clf.score(X_test, y_test)\n",
    "acc\n",
    "\n",
    "prec, rec, f1, _ = precision_recall_fscore_support(y_test, preds)\n",
    "\n",
    "prec, rec, f1, _\n",
    "print(acc)"
   ]
  },
  {
   "cell_type": "markdown",
   "id": "6fb732b9-2d68-4b6b-8f65-48fc8ed6111d",
   "metadata": {},
   "source": [
    "# Attack"
   ]
  },
  {
   "cell_type": "code",
   "execution_count": 48,
   "id": "c5eb5bee-b307-4bf1-bb22-46f14157c28f",
   "metadata": {},
   "outputs": [],
   "source": []
  },
  {
   "cell_type": "code",
   "execution_count": 106,
   "id": "75d762da-3221-4d79-bb76-62af57c5d421",
   "metadata": {
    "scrolled": true
   },
   "outputs": [
    {
     "name": "stdout",
     "output_type": "stream",
     "text": [
      "Splitting train and test data.\n",
      "Splitting train and val data.\n"
     ]
    }
   ],
   "source": [
    "test_loader = get_seeded_data_loader(dataset, \"test\", GLOBAL_SEED, resize=RESIZE, batch_size=BATCH_SIZE, normalize=False)"
   ]
  },
  {
   "cell_type": "code",
   "execution_count": 112,
   "id": "0abf44e4-4b05-4b31-8888-d98ab961d68f",
   "metadata": {},
   "outputs": [
    {
     "name": "stderr",
     "output_type": "stream",
     "text": [
      "/home/florian/anaconda3/envs/fruit-qa-3-9/lib/python3.9/site-packages/foolbox/models/pytorch.py:36: UserWarning: The PyTorch model is in training mode and therefore might not be deterministic. Call the eval() method to set it in evaluation mode if this is not intended.\n",
      "  warnings.warn(\n"
     ]
    }
   ],
   "source": [
    "import foolbox as fb\n",
    "preprocessing = dict(mean=(0.6237, 0.6076, 0.5367), std=(0.1759, 0.1925, 0.3011), axis=-3)\n",
    "bounds = (0, 1)\n",
    "fmodel = fb.PyTorchModel(m, bounds=bounds,preprocessing=preprocessing)"
   ]
  },
  {
   "cell_type": "code",
   "execution_count": 113,
   "id": "4ed7aecc-413e-4169-a003-8670ae6430e9",
   "metadata": {},
   "outputs": [
    {
     "data": {
      "text/plain": [
       "(tensor(0., device='cuda:0'), tensor(0.8994, device='cuda:0'))"
      ]
     },
     "execution_count": 113,
     "metadata": {},
     "output_type": "execute_result"
    }
   ],
   "source": [
    "x_batch, y_batch = next(iter(test_loader))\n",
    "x_batch, y_batch = x_batch.to(device), y_batch.to(device)\n",
    "x_batch.min(), x_batch.max()"
   ]
  },
  {
   "cell_type": "code",
   "execution_count": 114,
   "id": "205879cf-7883-4b78-9176-535ff946973e",
   "metadata": {},
   "outputs": [
    {
     "data": {
      "text/plain": [
       "tensor([0, 1, 0, 0, 0, 2, 2, 1], device='cuda:0')"
      ]
     },
     "execution_count": 114,
     "metadata": {},
     "output_type": "execute_result"
    }
   ],
   "source": [
    "fmodel(x_batch).argmax(axis=-1)"
   ]
  },
  {
   "cell_type": "code",
   "execution_count": 115,
   "id": "d99881e1-29d3-4add-a672-9faab4a10534",
   "metadata": {},
   "outputs": [
    {
     "data": {
      "text/plain": [
       "tensor([0, 1, 0, 0, 0, 2, 2, 1], device='cuda:0')"
      ]
     },
     "execution_count": 115,
     "metadata": {},
     "output_type": "execute_result"
    }
   ],
   "source": [
    "y_batch"
   ]
  },
  {
   "cell_type": "code",
   "execution_count": 116,
   "id": "d78ad87d-7af1-49f6-9da5-6fbd2e1b2729",
   "metadata": {},
   "outputs": [
    {
     "data": {
      "text/plain": [
       "1.0"
      ]
     },
     "execution_count": 116,
     "metadata": {},
     "output_type": "execute_result"
    }
   ],
   "source": [
    "fb.utils.accuracy(fmodel, x_batch, y_batch)\n"
   ]
  },
  {
   "cell_type": "code",
   "execution_count": 187,
   "id": "68d8d176-663b-4bfb-886e-3b2daf1da95b",
   "metadata": {},
   "outputs": [],
   "source": [
    "FGSM = fb.attacks.FGSM()\n",
    "PGD = fb.attacks.PGD()\n",
    "raw, clipped, is_adv = PGD(fmodel, x_batch, y_batch, epsilons=[0,1/255,2/255,4/255,8/255,16/255,32/255,64/255])"
   ]
  },
  {
   "cell_type": "code",
   "execution_count": 189,
   "id": "723fdd6b-072d-4910-b56c-2c5823b737c8",
   "metadata": {},
   "outputs": [],
   "source": [
    "raw, clipped, is_adv =  FGSM(fmodel, x_batch, y_batch, epsilons=[0,1/255,2/255,4/255,8/255,16/255,32/255,64/255])"
   ]
  },
  {
   "cell_type": "markdown",
   "id": "b9cf2015-f3eb-4323-a2bd-5844f8c6efbd",
   "metadata": {},
   "source": [
    "##### PGD"
   ]
  },
  {
   "cell_type": "code",
   "execution_count": 188,
   "id": "ccace50e-2555-40e5-8cda-b746f54566d2",
   "metadata": {},
   "outputs": [
    {
     "name": "stdout",
     "output_type": "stream",
     "text": [
      "0/255 1.0\n",
      "1/255 0.0\n",
      "2/255 0.0\n",
      "4/255 0.0\n",
      "8/255 0.0\n",
      "16/255 0.0\n",
      "32/255 0.0\n",
      "64/255 0.0\n"
     ]
    }
   ],
   "source": [
    "for i, eps in enumerate(['0/255','1/255','2/255','4/255','8/255','16/255','32/255','64/255']):\n",
    "    print(eps, fb.utils.accuracy(fmodel, clipped[i], y_batch))"
   ]
  },
  {
   "cell_type": "markdown",
   "id": "73837933-dc44-4ba8-bffb-1a50758bc5d1",
   "metadata": {},
   "source": [
    "#### FGSM"
   ]
  },
  {
   "cell_type": "code",
   "execution_count": 190,
   "id": "b3640514-6761-42cc-aed9-e414348a61d9",
   "metadata": {},
   "outputs": [
    {
     "name": "stdout",
     "output_type": "stream",
     "text": [
      "0/255 1.0\n",
      "1/255 0.0\n",
      "2/255 0.0\n",
      "4/255 0.0\n",
      "8/255 0.125\n",
      "16/255 0.5\n",
      "32/255 0.5\n",
      "64/255 0.375\n"
     ]
    }
   ],
   "source": [
    "for i, eps in enumerate(['0/255','1/255','2/255','4/255','8/255','16/255','32/255','64/255']):\n",
    "    print(eps, fb.utils.accuracy(fmodel, clipped[i], y_batch))"
   ]
  },
  {
   "cell_type": "code",
   "execution_count": 194,
   "id": "b7aa9de7-3202-474b-939e-e63ccf7b7ba6",
   "metadata": {},
   "outputs": [],
   "source": [
    "import torchvision\n",
    "mean, std = ((0.6237, 0.6076, 0.5367),(0.1759, 0.1925, 0.3011))\n",
    "normalized_advs = torchvision.transforms.functional.normalize(clipped[1],mean, std)\n",
    "adv_preds = m(normalized_advs).argmax(-1)"
   ]
  },
  {
   "cell_type": "code",
   "execution_count": 195,
   "id": "e8d3f732-469e-4781-bce7-c213f195d444",
   "metadata": {},
   "outputs": [
    {
     "data": {
      "text/plain": [
       "tensor(0., device='cuda:0')"
      ]
     },
     "execution_count": 195,
     "metadata": {},
     "output_type": "execute_result"
    }
   ],
   "source": [
    "(y_batch == adv_preds).sum() / len(y_batch)"
   ]
  },
  {
   "cell_type": "code",
   "execution_count": null,
   "id": "c0f3753e-044b-4a0d-a239-00c00747992e",
   "metadata": {},
   "outputs": [],
   "source": []
  },
  {
   "cell_type": "code",
   "execution_count": 167,
   "id": "b2dc7d4f-0ba5-43f2-9a4d-482bd6de19e0",
   "metadata": {},
   "outputs": [
    {
     "data": {
      "text/plain": [
       "tensor(0.0078, device='cuda:0')"
      ]
     },
     "execution_count": 167,
     "metadata": {},
     "output_type": "execute_result"
    }
   ],
   "source": [
    "(clipped-x_batch).max()"
   ]
  },
  {
   "cell_type": "code",
   "execution_count": null,
   "id": "d130bda0-2a61-4fbf-9e4c-9ebb448fc6e4",
   "metadata": {},
   "outputs": [],
   "source": []
  },
  {
   "cell_type": "code",
   "execution_count": null,
   "id": "a150f8cc-13d8-4515-85d3-55d9f22cca5e",
   "metadata": {},
   "outputs": [],
   "source": []
  },
  {
   "cell_type": "code",
   "execution_count": null,
   "id": "4d72e261-8f50-47e6-95dd-5ca7713cc270",
   "metadata": {},
   "outputs": [],
   "source": []
  },
  {
   "cell_type": "code",
   "execution_count": null,
   "id": "a534a817-79a5-478d-941e-2ae82f6b5dc5",
   "metadata": {},
   "outputs": [],
   "source": []
  },
  {
   "cell_type": "code",
   "execution_count": 121,
   "id": "f9faa0f2-80a0-4c8f-98ba-b60ecaeb7a94",
   "metadata": {},
   "outputs": [
    {
     "data": {
      "text/plain": [
       "(tensor(-3.5458, device='cuda:0'), tensor(1.7460, device='cuda:0'))"
      ]
     },
     "execution_count": 121,
     "metadata": {},
     "output_type": "execute_result"
    }
   ],
   "source": [
    "normalized_advs.min(), normalized_advs.max()"
   ]
  },
  {
   "cell_type": "code",
   "execution_count": 122,
   "id": "af6b46f1-9874-4800-a8d2-17fcdb40b44a",
   "metadata": {},
   "outputs": [
    {
     "data": {
      "text/plain": [
       "(tensor(0., device='cuda:0'), tensor(0.8994, device='cuda:0'))"
      ]
     },
     "execution_count": 122,
     "metadata": {},
     "output_type": "execute_result"
    }
   ],
   "source": [
    "x_batch.min(), x_batch.max()"
   ]
  },
  {
   "cell_type": "code",
   "execution_count": 97,
   "id": "7386d68e-03ab-4ce2-b67b-e61f77610053",
   "metadata": {},
   "outputs": [
    {
     "name": "stdout",
     "output_type": "stream",
     "text": [
      "normalize values ((0.6237, 0.6076, 0.5367), (0.1759, 0.1925, 0.3011))\n",
      "Splitting train and test data.\n",
      "Splitting train and val data.\n"
     ]
    }
   ],
   "source": [
    "test_loader = get_seeded_data_loader(dataset, \"test\", GLOBAL_SEED, resize=RESIZE, batch_size=BATCH_SIZE, normalize=True)"
   ]
  },
  {
   "cell_type": "code",
   "execution_count": 98,
   "id": "da597a41-82dd-459e-8b00-3ed537ca7faa",
   "metadata": {},
   "outputs": [
    {
     "data": {
      "text/plain": [
       "(tensor(0., device='cuda:0'), tensor(0.8994, device='cuda:0'))"
      ]
     },
     "execution_count": 98,
     "metadata": {},
     "output_type": "execute_result"
    }
   ],
   "source": [
    "x_batch, y_batch = x_batch.to(device), y_batch.to(device)\n",
    "x_batch.min(), x_batch.max()"
   ]
  },
  {
   "cell_type": "code",
   "execution_count": null,
   "id": "e274bd17-6760-4a96-b021-cdba7831203f",
   "metadata": {},
   "outputs": [],
   "source": []
  },
  {
   "cell_type": "code",
   "execution_count": 3,
   "id": "ce3ea4cc-36ba-4381-9cc1-4b76abded140",
   "metadata": {},
   "outputs": [
    {
     "name": "stdout",
     "output_type": "stream",
     "text": [
      "Package                        Version      Editable project location\n",
      "------------------------------ ------------ -------------------------\n",
      "adversarial-robustness-toolbox 1.16.0\n",
      "anyio                          4.0.0\n",
      "appdirs                        1.4.4\n",
      "argon2-cffi                    23.1.0\n",
      "argon2-cffi-bindings           21.2.0\n",
      "arrow                          1.3.0\n",
      "asttokens                      2.4.0\n",
      "async-lru                      2.0.4\n",
      "attrs                          23.1.0\n",
      "Babel                          2.13.0\n",
      "backcall                       0.2.0\n",
      "beautifulsoup4                 4.12.2\n",
      "bleach                         6.1.0\n",
      "certifi                        2023.7.22\n",
      "cffi                           1.16.0\n",
      "charset-normalizer             3.3.1\n",
      "click                          8.1.7\n",
      "comm                           0.1.4\n",
      "contourpy                      1.1.1\n",
      "cycler                         0.12.1\n",
      "debugpy                        1.8.0\n",
      "decorator                      5.1.1\n",
      "defusedxml                     0.7.1\n",
      "docker-pycreds                 0.4.0\n",
      "eagerpy                        0.30.0\n",
      "exceptiongroup                 1.1.3\n",
      "executing                      2.0.0\n",
      "fastjsonschema                 2.18.1\n",
      "filelock                       3.12.4\n",
      "fonttools                      4.43.1\n",
      "foolbox                        3.3.3        /home/florian/dev/foolbox\n",
      "fqdn                           1.5.1\n",
      "fsspec                         2023.10.0\n",
      "gitdb                          4.0.11\n",
      "GitPython                      3.1.40\n",
      "idna                           3.4\n",
      "importlib-metadata             6.8.0\n",
      "importlib-resources            6.1.0\n",
      "ipykernel                      6.25.2\n",
      "ipython                        8.16.1\n",
      "ipython-genutils               0.2.0\n",
      "ipywidgets                     8.1.1\n",
      "isoduration                    20.11.0\n",
      "jedi                           0.19.1\n",
      "Jinja2                         3.1.2\n",
      "joblib                         1.3.2\n",
      "json5                          0.9.14\n",
      "jsonpointer                    2.4\n",
      "jsonschema                     4.19.1\n",
      "jsonschema-specifications      2023.7.1\n",
      "jupyter                        1.0.0\n",
      "jupyter_client                 8.4.0\n",
      "jupyter-console                6.6.3\n",
      "jupyter_core                   5.4.0\n",
      "jupyter-events                 0.8.0\n",
      "jupyter-lsp                    2.2.0\n",
      "jupyter_server                 2.8.0\n",
      "jupyter_server_terminals       0.4.4\n",
      "jupyterlab                     4.0.7\n",
      "jupyterlab-pygments            0.2.2\n",
      "jupyterlab_server              2.25.0\n",
      "jupyterlab-widgets             3.0.9\n",
      "kiwisolver                     1.4.5\n",
      "lightning-utilities            0.9.0\n",
      "llvmlite                       0.41.1\n",
      "MarkupSafe                     2.1.3\n",
      "matplotlib                     3.8.0\n",
      "matplotlib-inline              0.1.6\n",
      "mistune                        3.0.2\n",
      "mpmath                         1.3.0\n",
      "nbclient                       0.8.0\n",
      "nbconvert                      7.9.2\n",
      "nbformat                       5.9.2\n",
      "nest-asyncio                   1.5.8\n",
      "networkx                       3.2\n",
      "notebook                       7.0.6\n",
      "notebook_shim                  0.2.3\n",
      "numba                          0.58.1\n",
      "numpy                          1.26.1\n",
      "nvidia-cublas-cu12             12.1.3.1\n",
      "nvidia-cuda-cupti-cu12         12.1.105\n",
      "nvidia-cuda-nvrtc-cu12         12.1.105\n",
      "nvidia-cuda-runtime-cu12       12.1.105\n",
      "nvidia-cudnn-cu12              8.9.2.26\n",
      "nvidia-cufft-cu12              11.0.2.54\n",
      "nvidia-curand-cu12             10.3.2.106\n",
      "nvidia-cusolver-cu12           11.4.5.107\n",
      "nvidia-cusparse-cu12           12.1.0.106\n",
      "nvidia-nccl-cu12               2.18.1\n",
      "nvidia-nvjitlink-cu12          12.3.52\n",
      "nvidia-nvtx-cu12               12.1.105\n",
      "overrides                      7.4.0\n",
      "packaging                      23.2\n",
      "pandas                         2.1.1\n",
      "pandocfilters                  1.5.0\n",
      "parso                          0.8.3\n",
      "pathtools                      0.1.2\n",
      "pexpect                        4.8.0\n",
      "pickleshare                    0.7.5\n",
      "Pillow                         10.1.0\n",
      "pip                            23.3\n",
      "platformdirs                   3.11.0\n",
      "prometheus-client              0.17.1\n",
      "prompt-toolkit                 3.0.39\n",
      "protobuf                       4.24.4\n",
      "psutil                         5.9.6\n",
      "ptyprocess                     0.7.0\n",
      "pure-eval                      0.2.2\n",
      "pycparser                      2.21\n",
      "Pygments                       2.16.1\n",
      "pynndescent                    0.5.10\n",
      "pyparsing                      3.1.1\n",
      "python-dateutil                2.8.2\n",
      "python-json-logger             2.0.7\n",
      "pytz                           2023.3.post1\n",
      "PyYAML                         6.0.1\n",
      "pyzmq                          25.1.1\n",
      "qtconsole                      5.4.4\n",
      "QtPy                           2.4.0\n",
      "referencing                    0.30.2\n",
      "requests                       2.31.0\n",
      "rfc3339-validator              0.1.4\n",
      "rfc3986-validator              0.1.1\n",
      "rpds-py                        0.10.6\n",
      "scikit-learn                   1.1.3\n",
      "scipy                          1.11.3\n",
      "seaborn                        0.13.0\n",
      "Send2Trash                     1.8.2\n",
      "sentry-sdk                     1.32.0\n",
      "setproctitle                   1.3.3\n",
      "setuptools                     68.0.0\n",
      "six                            1.16.0\n",
      "skorch                         0.15.0\n",
      "smmap                          5.0.1\n",
      "sniffio                        1.3.0\n",
      "soupsieve                      2.5\n",
      "stack-data                     0.6.3\n",
      "sympy                          1.12\n",
      "tabulate                       0.9.0\n",
      "tbb                            2021.10.0\n",
      "terminado                      0.17.1\n",
      "threadpoolctl                  3.2.0\n",
      "tinycss2                       1.2.1\n",
      "tomli                          2.0.1\n",
      "torch                          2.1.0\n",
      "torchmetrics                   1.2.0\n",
      "torchsummary                   1.5.1\n",
      "torchvision                    0.16.0\n",
      "tornado                        6.3.3\n",
      "tqdm                           4.66.1\n",
      "traitlets                      5.11.2\n",
      "triton                         2.1.0\n",
      "types-python-dateutil          2.8.19.14\n",
      "typing_extensions              4.8.0\n",
      "tzdata                         2023.3\n",
      "umap                           0.1.1\n",
      "umap-learn                     0.5.4\n",
      "uri-template                   1.3.0\n",
      "urllib3                        2.0.7\n",
      "wandb                          0.15.12\n",
      "wcwidth                        0.2.8\n",
      "webcolors                      1.13\n",
      "webencodings                   0.5.1\n",
      "websocket-client               1.6.4\n",
      "wheel                          0.41.2\n",
      "widgetsnbextension             4.0.9\n",
      "xgboost                        2.0.0\n",
      "zipp                           3.17.0\n"
     ]
    }
   ],
   "source": [
    "!pip list"
   ]
  },
  {
   "cell_type": "code",
   "execution_count": null,
   "id": "ba7aee95-8e48-44b0-a11a-d407560e109d",
   "metadata": {},
   "outputs": [],
   "source": [
    "/home/florian/anaconda3/envs/fruit-qa-3-9/bin/python"
   ]
  },
  {
   "cell_type": "code",
   "execution_count": null,
   "id": "0dc886c9-226d-4b19-be35-9632c5f1f4be",
   "metadata": {},
   "outputs": [],
   "source": []
  },
  {
   "cell_type": "code",
   "execution_count": null,
   "id": "65573a3d-9198-4820-9f67-3c23909713c0",
   "metadata": {},
   "outputs": [],
   "source": []
  },
  {
   "cell_type": "code",
   "execution_count": 13,
   "id": "3cd70709-1465-43ba-aaf6-e2067ef1637d",
   "metadata": {},
   "outputs": [],
   "source": [
    "X,y = next(iter(test_loader))"
   ]
  },
  {
   "cell_type": "code",
   "execution_count": 13,
   "id": "46f6b37e-15e8-4746-86ef-a340561a5a84",
   "metadata": {},
   "outputs": [],
   "source": [
    "from art.estimators.classification import PyTorchClassifier\n"
   ]
  },
  {
   "cell_type": "code",
   "execution_count": 14,
   "id": "2c9c82b3-a1a4-4306-8331-5d7551060442",
   "metadata": {},
   "outputs": [
    {
     "ename": "TypeError",
     "evalue": "__init__() missing 3 required positional arguments: 'loss', 'input_shape', and 'nb_classes'",
     "output_type": "error",
     "traceback": [
      "\u001b[0;31m---------------------------------------------------------------------------\u001b[0m",
      "\u001b[0;31mTypeError\u001b[0m                                 Traceback (most recent call last)",
      "Cell \u001b[0;32mIn[14], line 1\u001b[0m\n\u001b[0;32m----> 1\u001b[0m classifier \u001b[38;5;241m=\u001b[39m \u001b[43mPyTorchClassifier\u001b[49m\u001b[43m(\u001b[49m\n\u001b[1;32m      2\u001b[0m \u001b[43m    \u001b[49m\u001b[43mmodel\u001b[49m\u001b[38;5;241;43m=\u001b[39;49m\u001b[43mtransformer\u001b[49m\u001b[43m,\u001b[49m\n\u001b[1;32m      3\u001b[0m \u001b[43m)\u001b[49m\n",
      "\u001b[0;31mTypeError\u001b[0m: __init__() missing 3 required positional arguments: 'loss', 'input_shape', and 'nb_classes'"
     ]
    }
   ],
   "source": [
    "classifier = PyTorchClassifier(\n",
    "    model=transformer,\n",
    ")\n"
   ]
  },
  {
   "cell_type": "code",
   "execution_count": 7,
   "id": "4043249b-8e28-4754-851e-ea328d22e8ee",
   "metadata": {
    "scrolled": true
   },
   "outputs": [
    {
     "name": "stdout",
     "output_type": "stream",
     "text": [
      "  epoch    train_loss    valid_loss     dur\n",
      "-------  ------------  ------------  ------\n",
      "      1        \u001b[36m0.1549\u001b[0m        \u001b[32m0.1397\u001b[0m  0.0091\n",
      "      2        \u001b[36m0.1305\u001b[0m        \u001b[32m0.1232\u001b[0m  0.0190\n",
      "      3        \u001b[36m0.1161\u001b[0m        \u001b[32m0.1135\u001b[0m  0.0111\n",
      "      4        \u001b[36m0.1074\u001b[0m        \u001b[32m0.1078\u001b[0m  0.0095\n",
      "      5        \u001b[36m0.1021\u001b[0m        \u001b[32m0.1044\u001b[0m  0.0078\n",
      "      6        \u001b[36m0.0989\u001b[0m        \u001b[32m0.1024\u001b[0m  0.0074\n",
      "      7        \u001b[36m0.0969\u001b[0m        \u001b[32m0.1011\u001b[0m  0.0076\n",
      "      8        \u001b[36m0.0955\u001b[0m        \u001b[32m0.1002\u001b[0m  0.0074\n",
      "      9        \u001b[36m0.0946\u001b[0m        \u001b[32m0.0996\u001b[0m  0.0075\n",
      "     10        \u001b[36m0.0939\u001b[0m        \u001b[32m0.0991\u001b[0m  0.0088\n",
      "  epoch    train_loss    valid_loss     dur\n",
      "-------  ------------  ------------  ------\n",
      "      1        \u001b[36m0.1555\u001b[0m        \u001b[32m0.1388\u001b[0m  0.0087\n",
      "      2        \u001b[36m0.1318\u001b[0m        \u001b[32m0.1207\u001b[0m  0.0140\n",
      "      3        \u001b[36m0.1171\u001b[0m        \u001b[32m0.1096\u001b[0m  0.0144\n",
      "      4        \u001b[36m0.1081\u001b[0m        \u001b[32m0.1029\u001b[0m  0.0092\n",
      "      5        \u001b[36m0.1026\u001b[0m        \u001b[32m0.0989\u001b[0m  0.0074\n",
      "      6        \u001b[36m0.0993\u001b[0m        \u001b[32m0.0965\u001b[0m  0.0074\n",
      "      7        \u001b[36m0.0972\u001b[0m        \u001b[32m0.0949\u001b[0m  0.0074\n",
      "      8        \u001b[36m0.0959\u001b[0m        \u001b[32m0.0939\u001b[0m  0.0075\n",
      "      9        \u001b[36m0.0949\u001b[0m        \u001b[32m0.0932\u001b[0m  0.0074\n",
      "     10        \u001b[36m0.0942\u001b[0m        \u001b[32m0.0926\u001b[0m  0.0074\n",
      "  epoch    train_loss    valid_loss     dur\n",
      "-------  ------------  ------------  ------\n",
      "      1        \u001b[36m0.1602\u001b[0m        \u001b[32m0.1428\u001b[0m  0.0073\n",
      "      2        \u001b[36m0.1370\u001b[0m        \u001b[32m0.1241\u001b[0m  0.0075\n",
      "      3        \u001b[36m0.1218\u001b[0m        \u001b[32m0.1121\u001b[0m  0.0074\n",
      "      4        \u001b[36m0.1120\u001b[0m        \u001b[32m0.1044\u001b[0m  0.0075\n",
      "      5        \u001b[36m0.1058\u001b[0m        \u001b[32m0.0994\u001b[0m  0.0074\n",
      "      6        \u001b[36m0.1018\u001b[0m        \u001b[32m0.0962\u001b[0m  0.0075\n",
      "      7        \u001b[36m0.0992\u001b[0m        \u001b[32m0.0940\u001b[0m  0.0074\n",
      "      8        \u001b[36m0.0973\u001b[0m        \u001b[32m0.0924\u001b[0m  0.0075\n",
      "      9        \u001b[36m0.0959\u001b[0m        \u001b[32m0.0912\u001b[0m  0.0074\n",
      "     10        \u001b[36m0.0949\u001b[0m        \u001b[32m0.0902\u001b[0m  0.0074\n",
      "  epoch    train_loss    valid_loss     dur\n",
      "-------  ------------  ------------  ------\n",
      "      1        \u001b[36m0.1746\u001b[0m        \u001b[32m0.1424\u001b[0m  0.0074\n",
      "      2        \u001b[36m0.1417\u001b[0m        \u001b[32m0.1210\u001b[0m  0.0074\n",
      "      3        \u001b[36m0.1232\u001b[0m        \u001b[32m0.1088\u001b[0m  0.0074\n",
      "      4        \u001b[36m0.1123\u001b[0m        \u001b[32m0.1017\u001b[0m  0.0075\n",
      "      5        \u001b[36m0.1058\u001b[0m        \u001b[32m0.0975\u001b[0m  0.0074\n",
      "      6        \u001b[36m0.1018\u001b[0m        \u001b[32m0.0950\u001b[0m  0.0074\n",
      "      7        \u001b[36m0.0993\u001b[0m        \u001b[32m0.0935\u001b[0m  0.0075\n",
      "      8        \u001b[36m0.0977\u001b[0m        \u001b[32m0.0925\u001b[0m  0.0074\n",
      "      9        \u001b[36m0.0966\u001b[0m        \u001b[32m0.0919\u001b[0m  0.0074\n",
      "     10        \u001b[36m0.0958\u001b[0m        \u001b[32m0.0914\u001b[0m  0.0074\n",
      "  epoch    train_loss    valid_loss     dur\n",
      "-------  ------------  ------------  ------\n",
      "      1        \u001b[36m0.1429\u001b[0m        \u001b[32m0.1290\u001b[0m  0.0073\n",
      "      2        \u001b[36m0.1234\u001b[0m        \u001b[32m0.1141\u001b[0m  0.0074\n",
      "      3        \u001b[36m0.1113\u001b[0m        \u001b[32m0.1049\u001b[0m  0.0074\n",
      "      4        \u001b[36m0.1038\u001b[0m        \u001b[32m0.0991\u001b[0m  0.0074\n",
      "      5        \u001b[36m0.0992\u001b[0m        \u001b[32m0.0954\u001b[0m  0.0075\n",
      "      6        \u001b[36m0.0962\u001b[0m        \u001b[32m0.0931\u001b[0m  0.0074\n",
      "      7        \u001b[36m0.0943\u001b[0m        \u001b[32m0.0915\u001b[0m  0.0074\n",
      "      8        \u001b[36m0.0930\u001b[0m        \u001b[32m0.0903\u001b[0m  0.0074\n",
      "      9        \u001b[36m0.0920\u001b[0m        \u001b[32m0.0895\u001b[0m  0.0074\n",
      "     10        \u001b[36m0.0912\u001b[0m        \u001b[32m0.0888\u001b[0m  0.0075\n"
     ]
    },
    {
     "data": {
      "text/plain": [
       "array([0.61 , 0.555, 0.72 , 0.485, 0.56 ])"
      ]
     },
     "execution_count": 7,
     "metadata": {},
     "output_type": "execute_result"
    }
   ],
   "source": [
    "import numpy as np\n",
    "from sklearn.datasets import make_classification\n",
    "from sklearn.base import TransformerMixin\n",
    "from sklearn.pipeline import Pipeline\n",
    "from sklearn.preprocessing import MinMaxScaler\n",
    "from sklearn.linear_model import LogisticRegression\n",
    "from sklearn.model_selection import cross_val_score\n",
    "from skorch import NeuralNet\n",
    "from skorch.utils import to_numpy\n",
    "import torch\n",
    "from torch import nn\n",
    "import torch.nn.functional as F\n",
    "torch.manual_seed(0)\n",
    "\n",
    "X, y = make_classification(1000, 20, n_informative=10, random_state=0)\n",
    "X, y = X.astype(np.float32), y.astype(np.int64)\n",
    "\n",
    "class AutoencoderModule(nn.Module):\n",
    "    def __init__(\n",
    "            self,\n",
    "            input_units=20,\n",
    "            bottleneck_units=5,\n",
    "    ):\n",
    "        super().__init__()\n",
    "        self.input_units = input_units\n",
    "        self.bottleneck_units = bottleneck_units\n",
    "        self.reset_params()\n",
    "\n",
    "    def reset_params(self):\n",
    "        self.dense0 = nn.Linear(self.input_units, self.bottleneck_units)\n",
    "        self.dense1 = nn.Linear(self.bottleneck_units, self.input_units)\n",
    "\n",
    "    def forward(self, X, **kwargs):\n",
    "        X_bottleneck = self.dense0(X)\n",
    "        X_out = self.dense1(F.relu(X_bottleneck))\n",
    "        X_rec = F.tanh(X_out)  # range -1..1\n",
    "        return X_rec, X_bottleneck\n",
    "\n",
    "class NeuralNetTransformer(NeuralNet, TransformerMixin):\n",
    "    def get_loss(self, y_pred, y_true, X, **kwargs):\n",
    "        y_pred, _ = y_pred\n",
    "        return super().get_loss(y_pred, y_true=X, X=X, **kwargs)\n",
    "\n",
    "    def transform(self, X):\n",
    "        out = []\n",
    "        for outs in self.forward_iter(X, training=False):\n",
    "            outs = outs[1] if isinstance(outs, tuple) else outs\n",
    "            out.append(to_numpy(outs))\n",
    "        transforms = np.concatenate(out, 0)\n",
    "        return transforms\n",
    "\n",
    "pipe = Pipeline([\n",
    "    ('scale', MinMaxScaler(feature_range=(-1, 1))),  # range -1..1\n",
    "    ('net', NeuralNetTransformer(\n",
    "        AutoencoderModule,\n",
    "        criterion=nn.MSELoss,\n",
    "        module__bottleneck_units=5,\n",
    "        lr=0.5,\n",
    "    )),\n",
    "    ('clf', LogisticRegression()),\n",
    "])\n",
    "\n",
    "cross_val_score(pipe, X, y, scoring='accuracy')\n",
    "# returns array([ 0.61 ,  0.555,  0.72 ,  0.485,  0.56 ])"
   ]
  },
  {
   "cell_type": "code",
   "execution_count": 11,
   "id": "78f28761-1835-43cd-9d28-bc111c442561",
   "metadata": {},
   "outputs": [],
   "source": [
    "from art.estimators.classification import SklearnClassifier\n",
    "art_model = SklearnClassifier(pipe)"
   ]
  },
  {
   "cell_type": "code",
   "execution_count": 15,
   "id": "f5b7f615-7ffd-4a94-b574-e75dd78a6916",
   "metadata": {},
   "outputs": [],
   "source": [
    "from art.attacks.evasion import FastGradientMethod"
   ]
  },
  {
   "cell_type": "code",
   "execution_count": 18,
   "id": "cc895e7f-36e6-4646-affd-bf5c41c0a9f5",
   "metadata": {},
   "outputs": [
    {
     "ename": "EstimatorError",
     "evalue": "FastGradientMethod requires an estimator derived from <class 'art.estimators.estimator.BaseEstimator'> and <class 'art.estimators.estimator.LossGradientsMixin'>, the provided classifier is an instance of <class 'art.estimators.classification.scikitlearn.ScikitlearnClassifier'> and is derived from (<class 'art.estimators.classification.classifier.ClassifierMixin'>, <class 'art.estimators.scikitlearn.ScikitlearnEstimator'>).",
     "output_type": "error",
     "traceback": [
      "\u001b[0;31m---------------------------------------------------------------------------\u001b[0m",
      "\u001b[0;31mEstimatorError\u001b[0m                            Traceback (most recent call last)",
      "Cell \u001b[0;32mIn[18], line 1\u001b[0m\n\u001b[0;32m----> 1\u001b[0m \u001b[43mFastGradientMethod\u001b[49m\u001b[43m(\u001b[49m\u001b[43mestimator\u001b[49m\u001b[38;5;241;43m=\u001b[39;49m\u001b[43mart_model\u001b[49m\u001b[43m)\u001b[49m\n",
      "File \u001b[0;32m~/anaconda3/envs/fruit-qa-3-9/lib/python3.9/site-packages/art/attacks/evasion/fast_gradient.py:104\u001b[0m, in \u001b[0;36mFastGradientMethod.__init__\u001b[0;34m(self, estimator, norm, eps, eps_step, targeted, num_random_init, batch_size, minimal, summary_writer)\u001b[0m\n\u001b[1;32m     71\u001b[0m \u001b[38;5;28;01mdef\u001b[39;00m \u001b[38;5;21m__init__\u001b[39m(\n\u001b[1;32m     72\u001b[0m     \u001b[38;5;28mself\u001b[39m,\n\u001b[1;32m     73\u001b[0m     estimator: \u001b[38;5;124m\"\u001b[39m\u001b[38;5;124mCLASSIFIER_LOSS_GRADIENTS_TYPE\u001b[39m\u001b[38;5;124m\"\u001b[39m,\n\u001b[0;32m   (...)\u001b[0m\n\u001b[1;32m     81\u001b[0m     summary_writer: Union[\u001b[38;5;28mstr\u001b[39m, \u001b[38;5;28mbool\u001b[39m, SummaryWriter] \u001b[38;5;241m=\u001b[39m \u001b[38;5;28;01mFalse\u001b[39;00m,\n\u001b[1;32m     82\u001b[0m ) \u001b[38;5;241m-\u001b[39m\u001b[38;5;241m>\u001b[39m \u001b[38;5;28;01mNone\u001b[39;00m:\n\u001b[1;32m     83\u001b[0m \u001b[38;5;250m    \u001b[39m\u001b[38;5;124;03m\"\"\"\u001b[39;00m\n\u001b[1;32m     84\u001b[0m \u001b[38;5;124;03m    Create a :class:`.FastGradientMethod` instance.\u001b[39;00m\n\u001b[1;32m     85\u001b[0m \n\u001b[0;32m   (...)\u001b[0m\n\u001b[1;32m    102\u001b[0m \u001b[38;5;124;03m                           ‘runs/exp1’, ‘runs/exp2’, etc. for each new experiment to compare across them.\u001b[39;00m\n\u001b[1;32m    103\u001b[0m \u001b[38;5;124;03m    \"\"\"\u001b[39;00m\n\u001b[0;32m--> 104\u001b[0m     \u001b[38;5;28;43msuper\u001b[39;49m\u001b[43m(\u001b[49m\u001b[43m)\u001b[49m\u001b[38;5;241;43m.\u001b[39;49m\u001b[38;5;21;43m__init__\u001b[39;49m\u001b[43m(\u001b[49m\u001b[43mestimator\u001b[49m\u001b[38;5;241;43m=\u001b[39;49m\u001b[43mestimator\u001b[49m\u001b[43m,\u001b[49m\u001b[43m \u001b[49m\u001b[43msummary_writer\u001b[49m\u001b[38;5;241;43m=\u001b[39;49m\u001b[43msummary_writer\u001b[49m\u001b[43m)\u001b[49m\n\u001b[1;32m    105\u001b[0m     \u001b[38;5;28mself\u001b[39m\u001b[38;5;241m.\u001b[39mnorm \u001b[38;5;241m=\u001b[39m norm\n\u001b[1;32m    106\u001b[0m     \u001b[38;5;28mself\u001b[39m\u001b[38;5;241m.\u001b[39meps \u001b[38;5;241m=\u001b[39m eps\n",
      "File \u001b[0;32m~/anaconda3/envs/fruit-qa-3-9/lib/python3.9/site-packages/art/attacks/attack.py:212\u001b[0m, in \u001b[0;36mEvasionAttack.__init__\u001b[0;34m(self, **kwargs)\u001b[0m\n\u001b[1;32m    210\u001b[0m \u001b[38;5;28;01mdef\u001b[39;00m \u001b[38;5;21m__init__\u001b[39m(\u001b[38;5;28mself\u001b[39m, \u001b[38;5;241m*\u001b[39m\u001b[38;5;241m*\u001b[39mkwargs) \u001b[38;5;241m-\u001b[39m\u001b[38;5;241m>\u001b[39m \u001b[38;5;28;01mNone\u001b[39;00m:\n\u001b[1;32m    211\u001b[0m     \u001b[38;5;28mself\u001b[39m\u001b[38;5;241m.\u001b[39m_targeted \u001b[38;5;241m=\u001b[39m \u001b[38;5;28;01mFalse\u001b[39;00m\n\u001b[0;32m--> 212\u001b[0m     \u001b[38;5;28;43msuper\u001b[39;49m\u001b[43m(\u001b[49m\u001b[43m)\u001b[49m\u001b[38;5;241;43m.\u001b[39;49m\u001b[38;5;21;43m__init__\u001b[39;49m\u001b[43m(\u001b[49m\u001b[38;5;241;43m*\u001b[39;49m\u001b[38;5;241;43m*\u001b[39;49m\u001b[43mkwargs\u001b[49m\u001b[43m)\u001b[49m\n",
      "File \u001b[0;32m~/anaconda3/envs/fruit-qa-3-9/lib/python3.9/site-packages/art/attacks/attack.py:125\u001b[0m, in \u001b[0;36mAttack.__init__\u001b[0;34m(self, estimator, summary_writer)\u001b[0m\n\u001b[1;32m    122\u001b[0m     \u001b[38;5;28;01mraise\u001b[39;00m \u001b[38;5;167;01mValueError\u001b[39;00m(\u001b[38;5;124m\"\u001b[39m\u001b[38;5;124mEstimator requirements have not been defined in `_estimator_requirements`.\u001b[39m\u001b[38;5;124m\"\u001b[39m)\n\u001b[1;32m    124\u001b[0m \u001b[38;5;28;01mif\u001b[39;00m \u001b[38;5;129;01mnot\u001b[39;00m \u001b[38;5;28mself\u001b[39m\u001b[38;5;241m.\u001b[39mis_estimator_valid(estimator, \u001b[38;5;28mself\u001b[39m\u001b[38;5;241m.\u001b[39m_estimator_requirements):\n\u001b[0;32m--> 125\u001b[0m     \u001b[38;5;28;01mraise\u001b[39;00m EstimatorError(\u001b[38;5;28mself\u001b[39m\u001b[38;5;241m.\u001b[39m\u001b[38;5;18m__class__\u001b[39m, \u001b[38;5;28mself\u001b[39m\u001b[38;5;241m.\u001b[39mestimator_requirements, estimator)\n\u001b[1;32m    127\u001b[0m \u001b[38;5;28mself\u001b[39m\u001b[38;5;241m.\u001b[39m_estimator \u001b[38;5;241m=\u001b[39m estimator\n\u001b[1;32m    128\u001b[0m \u001b[38;5;28mself\u001b[39m\u001b[38;5;241m.\u001b[39m_summary_writer_arg \u001b[38;5;241m=\u001b[39m summary_writer\n",
      "\u001b[0;31mEstimatorError\u001b[0m: FastGradientMethod requires an estimator derived from <class 'art.estimators.estimator.BaseEstimator'> and <class 'art.estimators.estimator.LossGradientsMixin'>, the provided classifier is an instance of <class 'art.estimators.classification.scikitlearn.ScikitlearnClassifier'> and is derived from (<class 'art.estimators.classification.classifier.ClassifierMixin'>, <class 'art.estimators.scikitlearn.ScikitlearnEstimator'>)."
     ]
    }
   ],
   "source": [
    "FastGradientMethod(estimator=art_model)"
   ]
  },
  {
   "cell_type": "code",
   "execution_count": 19,
   "id": "8146283f-73ec-4e51-b415-9002b44a2e80",
   "metadata": {},
   "outputs": [
    {
     "name": "stdout",
     "output_type": "stream",
     "text": [
      "Collecting foolbox\n",
      "  Downloading foolbox-3.3.3-py3-none-any.whl (1.7 MB)\n",
      "\u001b[2K     \u001b[90m━━━━━━━━━━━━━━━━━━━━━━━━━━━━━━━━━━━━━━━━\u001b[0m \u001b[32m1.7/1.7 MB\u001b[0m \u001b[31m8.2 MB/s\u001b[0m eta \u001b[36m0:00:00\u001b[0ma \u001b[36m0:00:01\u001b[0mm\n",
      "\u001b[?25hRequirement already satisfied: numpy in /home/florian/anaconda3/envs/fruit-qa-3-9/lib/python3.9/site-packages (from foolbox) (1.26.1)\n",
      "Requirement already satisfied: scipy in /home/florian/anaconda3/envs/fruit-qa-3-9/lib/python3.9/site-packages (from foolbox) (1.11.3)\n",
      "Requirement already satisfied: setuptools in /home/florian/anaconda3/envs/fruit-qa-3-9/lib/python3.9/site-packages (from foolbox) (68.0.0)\n",
      "Collecting eagerpy>=0.30.0 (from foolbox)\n",
      "  Downloading eagerpy-0.30.0-py3-none-any.whl (31 kB)\n",
      "Requirement already satisfied: GitPython>=3.0.7 in /home/florian/anaconda3/envs/fruit-qa-3-9/lib/python3.9/site-packages (from foolbox) (3.1.40)\n",
      "Requirement already satisfied: typing-extensions>=3.7.4.1 in /home/florian/anaconda3/envs/fruit-qa-3-9/lib/python3.9/site-packages (from foolbox) (4.8.0)\n",
      "Requirement already satisfied: requests>=2.24.0 in /home/florian/anaconda3/envs/fruit-qa-3-9/lib/python3.9/site-packages (from foolbox) (2.31.0)\n",
      "Requirement already satisfied: gitdb<5,>=4.0.1 in /home/florian/anaconda3/envs/fruit-qa-3-9/lib/python3.9/site-packages (from GitPython>=3.0.7->foolbox) (4.0.11)\n",
      "Requirement already satisfied: charset-normalizer<4,>=2 in /home/florian/anaconda3/envs/fruit-qa-3-9/lib/python3.9/site-packages (from requests>=2.24.0->foolbox) (3.3.1)\n",
      "Requirement already satisfied: idna<4,>=2.5 in /home/florian/anaconda3/envs/fruit-qa-3-9/lib/python3.9/site-packages (from requests>=2.24.0->foolbox) (3.4)\n",
      "Requirement already satisfied: urllib3<3,>=1.21.1 in /home/florian/anaconda3/envs/fruit-qa-3-9/lib/python3.9/site-packages (from requests>=2.24.0->foolbox) (2.0.7)\n",
      "Requirement already satisfied: certifi>=2017.4.17 in /home/florian/anaconda3/envs/fruit-qa-3-9/lib/python3.9/site-packages (from requests>=2.24.0->foolbox) (2023.7.22)\n",
      "Requirement already satisfied: smmap<6,>=3.0.1 in /home/florian/anaconda3/envs/fruit-qa-3-9/lib/python3.9/site-packages (from gitdb<5,>=4.0.1->GitPython>=3.0.7->foolbox) (5.0.1)\n",
      "Installing collected packages: eagerpy, foolbox\n",
      "Successfully installed eagerpy-0.30.0 foolbox-3.3.3\n"
     ]
    }
   ],
   "source": [
    "!pip install foolbox"
   ]
  },
  {
   "cell_type": "code",
   "execution_count": 21,
   "id": "24813e95-d0c6-4c79-93b9-4ea474cb6d21",
   "metadata": {},
   "outputs": [
    {
     "ename": "ValueError",
     "evalue": "not enough values to unpack (expected 4, got 2)",
     "output_type": "error",
     "traceback": [
      "\u001b[0;31m---------------------------------------------------------------------------\u001b[0m",
      "\u001b[0;31mValueError\u001b[0m                                Traceback (most recent call last)",
      "Cell \u001b[0;32mIn[21], line 1\u001b[0m\n\u001b[0;32m----> 1\u001b[0m \u001b[43mtransformer\u001b[49m\u001b[43m(\u001b[49m\u001b[43mX\u001b[49m\u001b[43m)\u001b[49m\n",
      "File \u001b[0;32m~/anaconda3/envs/fruit-qa-3-9/lib/python3.9/site-packages/torch/nn/modules/module.py:1518\u001b[0m, in \u001b[0;36mModule._wrapped_call_impl\u001b[0;34m(self, *args, **kwargs)\u001b[0m\n\u001b[1;32m   1516\u001b[0m     \u001b[38;5;28;01mreturn\u001b[39;00m \u001b[38;5;28mself\u001b[39m\u001b[38;5;241m.\u001b[39m_compiled_call_impl(\u001b[38;5;241m*\u001b[39margs, \u001b[38;5;241m*\u001b[39m\u001b[38;5;241m*\u001b[39mkwargs)  \u001b[38;5;66;03m# type: ignore[misc]\u001b[39;00m\n\u001b[1;32m   1517\u001b[0m \u001b[38;5;28;01melse\u001b[39;00m:\n\u001b[0;32m-> 1518\u001b[0m     \u001b[38;5;28;01mreturn\u001b[39;00m \u001b[38;5;28;43mself\u001b[39;49m\u001b[38;5;241;43m.\u001b[39;49m\u001b[43m_call_impl\u001b[49m\u001b[43m(\u001b[49m\u001b[38;5;241;43m*\u001b[39;49m\u001b[43margs\u001b[49m\u001b[43m,\u001b[49m\u001b[43m \u001b[49m\u001b[38;5;241;43m*\u001b[39;49m\u001b[38;5;241;43m*\u001b[39;49m\u001b[43mkwargs\u001b[49m\u001b[43m)\u001b[49m\n",
      "File \u001b[0;32m~/anaconda3/envs/fruit-qa-3-9/lib/python3.9/site-packages/torch/nn/modules/module.py:1527\u001b[0m, in \u001b[0;36mModule._call_impl\u001b[0;34m(self, *args, **kwargs)\u001b[0m\n\u001b[1;32m   1522\u001b[0m \u001b[38;5;66;03m# If we don't have any hooks, we want to skip the rest of the logic in\u001b[39;00m\n\u001b[1;32m   1523\u001b[0m \u001b[38;5;66;03m# this function, and just call forward.\u001b[39;00m\n\u001b[1;32m   1524\u001b[0m \u001b[38;5;28;01mif\u001b[39;00m \u001b[38;5;129;01mnot\u001b[39;00m (\u001b[38;5;28mself\u001b[39m\u001b[38;5;241m.\u001b[39m_backward_hooks \u001b[38;5;129;01mor\u001b[39;00m \u001b[38;5;28mself\u001b[39m\u001b[38;5;241m.\u001b[39m_backward_pre_hooks \u001b[38;5;129;01mor\u001b[39;00m \u001b[38;5;28mself\u001b[39m\u001b[38;5;241m.\u001b[39m_forward_hooks \u001b[38;5;129;01mor\u001b[39;00m \u001b[38;5;28mself\u001b[39m\u001b[38;5;241m.\u001b[39m_forward_pre_hooks\n\u001b[1;32m   1525\u001b[0m         \u001b[38;5;129;01mor\u001b[39;00m _global_backward_pre_hooks \u001b[38;5;129;01mor\u001b[39;00m _global_backward_hooks\n\u001b[1;32m   1526\u001b[0m         \u001b[38;5;129;01mor\u001b[39;00m _global_forward_hooks \u001b[38;5;129;01mor\u001b[39;00m _global_forward_pre_hooks):\n\u001b[0;32m-> 1527\u001b[0m     \u001b[38;5;28;01mreturn\u001b[39;00m \u001b[43mforward_call\u001b[49m\u001b[43m(\u001b[49m\u001b[38;5;241;43m*\u001b[39;49m\u001b[43margs\u001b[49m\u001b[43m,\u001b[49m\u001b[43m \u001b[49m\u001b[38;5;241;43m*\u001b[39;49m\u001b[38;5;241;43m*\u001b[39;49m\u001b[43mkwargs\u001b[49m\u001b[43m)\u001b[49m\n\u001b[1;32m   1529\u001b[0m \u001b[38;5;28;01mtry\u001b[39;00m:\n\u001b[1;32m   1530\u001b[0m     result \u001b[38;5;241m=\u001b[39m \u001b[38;5;28;01mNone\u001b[39;00m\n",
      "File \u001b[0;32m~/.cache/torch/hub/facebookresearch_dino_main/vision_transformer.py:210\u001b[0m, in \u001b[0;36mVisionTransformer.forward\u001b[0;34m(self, x)\u001b[0m\n\u001b[1;32m    209\u001b[0m \u001b[38;5;28;01mdef\u001b[39;00m \u001b[38;5;21mforward\u001b[39m(\u001b[38;5;28mself\u001b[39m, x):\n\u001b[0;32m--> 210\u001b[0m     x \u001b[38;5;241m=\u001b[39m \u001b[38;5;28;43mself\u001b[39;49m\u001b[38;5;241;43m.\u001b[39;49m\u001b[43mprepare_tokens\u001b[49m\u001b[43m(\u001b[49m\u001b[43mx\u001b[49m\u001b[43m)\u001b[49m\n\u001b[1;32m    211\u001b[0m     \u001b[38;5;28;01mfor\u001b[39;00m blk \u001b[38;5;129;01min\u001b[39;00m \u001b[38;5;28mself\u001b[39m\u001b[38;5;241m.\u001b[39mblocks:\n\u001b[1;32m    212\u001b[0m         x \u001b[38;5;241m=\u001b[39m blk(x)\n",
      "File \u001b[0;32m~/.cache/torch/hub/facebookresearch_dino_main/vision_transformer.py:197\u001b[0m, in \u001b[0;36mVisionTransformer.prepare_tokens\u001b[0;34m(self, x)\u001b[0m\n\u001b[1;32m    196\u001b[0m \u001b[38;5;28;01mdef\u001b[39;00m \u001b[38;5;21mprepare_tokens\u001b[39m(\u001b[38;5;28mself\u001b[39m, x):\n\u001b[0;32m--> 197\u001b[0m     B, nc, w, h \u001b[38;5;241m=\u001b[39m x\u001b[38;5;241m.\u001b[39mshape\n\u001b[1;32m    198\u001b[0m     x \u001b[38;5;241m=\u001b[39m \u001b[38;5;28mself\u001b[39m\u001b[38;5;241m.\u001b[39mpatch_embed(x)  \u001b[38;5;66;03m# patch linear embedding\u001b[39;00m\n\u001b[1;32m    200\u001b[0m     \u001b[38;5;66;03m# add the [CLS] token to the embed patch tokens\u001b[39;00m\n",
      "\u001b[0;31mValueError\u001b[0m: not enough values to unpack (expected 4, got 2)"
     ]
    }
   ],
   "source": [
    "transformer()"
   ]
  },
  {
   "cell_type": "code",
   "execution_count": 4,
   "id": "83f758de-6403-4d52-b6d7-426e317539c1",
   "metadata": {},
   "outputs": [],
   "source": [
    "from baseline_experiments.model import initialize_model, unfreeze_all_params"
   ]
  },
  {
   "cell_type": "code",
   "execution_count": 10,
   "id": "eb47fcdf-e7be-46c9-974b-afd33ea18b5b",
   "metadata": {},
   "outputs": [],
   "source": [
    "m, _ = initialize_model('resnet50', 4, train_conv=False, use_pretrained=True)"
   ]
  },
  {
   "cell_type": "code",
   "execution_count": 13,
   "id": "a2e8240f-7fe9-4b07-ac83-93570fa12940",
   "metadata": {},
   "outputs": [],
   "source": [
    "m = torch.nn.DataParallel(m, [0])"
   ]
  },
  {
   "cell_type": "code",
   "execution_count": 14,
   "id": "05f63991-0629-49de-8a92-d790fec4d36a",
   "metadata": {},
   "outputs": [
    {
     "data": {
      "text/plain": [
       "<All keys matched successfully>"
      ]
     },
     "execution_count": 14,
     "metadata": {},
     "output_type": "execute_result"
    }
   ],
   "source": [
    "m.load_state_dict(torch.load('checkpoints/resnet50_n=all_all_2023_12_17_00_43/checkpoint.pt'))"
   ]
  },
  {
   "cell_type": "code",
   "execution_count": null,
   "id": "b82f9556-8c5b-4d14-9025-c0b6e1073901",
   "metadata": {},
   "outputs": [],
   "source": []
  }
 ],
 "metadata": {
  "kernelspec": {
   "display_name": "Python 3 (ipykernel)",
   "language": "python",
   "name": "python3"
  },
  "language_info": {
   "codemirror_mode": {
    "name": "ipython",
    "version": 3
   },
   "file_extension": ".py",
   "mimetype": "text/x-python",
   "name": "python",
   "nbconvert_exporter": "python",
   "pygments_lexer": "ipython3",
   "version": "3.10.13"
  }
 },
 "nbformat": 4,
 "nbformat_minor": 5
}
