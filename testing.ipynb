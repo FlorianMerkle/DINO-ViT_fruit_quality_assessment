{
 "cells": [
  {
   "cell_type": "code",
   "execution_count": 30,
   "id": "c9d4f229-493b-41cd-a219-9e7a7f7bd095",
   "metadata": {},
   "outputs": [],
   "source": [
    "import warnings\n",
    "warnings.filterwarnings(\"ignore\", category=UserWarning)\n",
    "\n",
    "import numpy as np\n",
    "import torch\n",
    "from sklearn.metrics import precision_recall_fscore_support\n",
    "from sklearn.neural_network import MLPClassifier\n",
    "from sklearn.linear_model import LogisticRegression\n",
    "from dino_experiments.util import get_embeddings, get_seeded_data_loader, Logger, AVAILABLE_DATASETS\n",
    "GLOBAL_SEED = 42\n",
    "RESIZE = True\n",
    "BATCH_SIZE = 16\n",
    "TEST_SAMPLE_SIZE = VAL_SAMPLE_SIZE = TRAIN_SAMPLE_SIZE = -1"
   ]
  },
  {
   "cell_type": "code",
   "execution_count": 2,
   "id": "94cc6c1f-42a5-4f13-8b3e-b1e56bd6ec72",
   "metadata": {},
   "outputs": [],
   "source": [
    "device = 'cuda' if torch.cuda.is_available() else 'cpu'\n",
    "dataset = 'fayoum'"
   ]
  },
  {
   "cell_type": "code",
   "execution_count": 3,
   "id": "32dba532-f4a0-4812-bc36-661fdf295458",
   "metadata": {},
   "outputs": [
    {
     "name": "stdout",
     "output_type": "stream",
     "text": [
      "Splitting train and test data.\n",
      "Splitting train and val data.\n"
     ]
    }
   ],
   "source": [
    "test_loader = get_seeded_data_loader(dataset, \"test\", GLOBAL_SEED, resize=RESIZE, batch_size=BATCH_SIZE)\n",
    "transformers = {'dino_vits8': torch.hub.load('facebookresearch/dino:main', 'dino_vits8', verbose=False)}\n",
    "transformer = list(transformers.values())[0]"
   ]
  },
  {
   "cell_type": "code",
   "execution_count": 23,
   "id": "3aad915c-c5fc-4477-a5c1-481e52326f47",
   "metadata": {},
   "outputs": [],
   "source": [
    "clf = MLPClassifier(random_state=GLOBAL_SEED, max_iter=10000)"
   ]
  },
  {
   "cell_type": "code",
   "execution_count": 5,
   "id": "02fc7fbc-1f6e-4550-9366-b0bc7b9b2c22",
   "metadata": {},
   "outputs": [],
   "source": [
    "X_test, y_test = get_embeddings(transformer, test_loader, TEST_SAMPLE_SIZE, batch_size=BATCH_SIZE)"
   ]
  },
  {
   "cell_type": "code",
   "execution_count": 22,
   "id": "778fb20a-cebe-45fc-8066-73f0b4bc67e9",
   "metadata": {},
   "outputs": [
    {
     "name": "stdout",
     "output_type": "stream",
     "text": [
      "Splitting train and test data.\n",
      "Splitting train and val data.\n"
     ]
    }
   ],
   "source": [
    "train_loader = get_seeded_data_loader(dataset, \"train\", GLOBAL_SEED, batch_size=BATCH_SIZE, resize=RESIZE)\n",
    "X_train, y_train = get_embeddings(transformer, train_loader, TRAIN_SAMPLE_SIZE, batch_size=BATCH_SIZE)"
   ]
  },
  {
   "cell_type": "code",
   "execution_count": 25,
   "id": "a7cd4d1c-86d9-4ad6-a080-63c0a43484ee",
   "metadata": {},
   "outputs": [
    {
     "data": {
      "text/html": [
       "<style>#sk-container-id-2 {color: black;}#sk-container-id-2 pre{padding: 0;}#sk-container-id-2 div.sk-toggleable {background-color: white;}#sk-container-id-2 label.sk-toggleable__label {cursor: pointer;display: block;width: 100%;margin-bottom: 0;padding: 0.3em;box-sizing: border-box;text-align: center;}#sk-container-id-2 label.sk-toggleable__label-arrow:before {content: \"▸\";float: left;margin-right: 0.25em;color: #696969;}#sk-container-id-2 label.sk-toggleable__label-arrow:hover:before {color: black;}#sk-container-id-2 div.sk-estimator:hover label.sk-toggleable__label-arrow:before {color: black;}#sk-container-id-2 div.sk-toggleable__content {max-height: 0;max-width: 0;overflow: hidden;text-align: left;background-color: #f0f8ff;}#sk-container-id-2 div.sk-toggleable__content pre {margin: 0.2em;color: black;border-radius: 0.25em;background-color: #f0f8ff;}#sk-container-id-2 input.sk-toggleable__control:checked~div.sk-toggleable__content {max-height: 200px;max-width: 100%;overflow: auto;}#sk-container-id-2 input.sk-toggleable__control:checked~label.sk-toggleable__label-arrow:before {content: \"▾\";}#sk-container-id-2 div.sk-estimator input.sk-toggleable__control:checked~label.sk-toggleable__label {background-color: #d4ebff;}#sk-container-id-2 div.sk-label input.sk-toggleable__control:checked~label.sk-toggleable__label {background-color: #d4ebff;}#sk-container-id-2 input.sk-hidden--visually {border: 0;clip: rect(1px 1px 1px 1px);clip: rect(1px, 1px, 1px, 1px);height: 1px;margin: -1px;overflow: hidden;padding: 0;position: absolute;width: 1px;}#sk-container-id-2 div.sk-estimator {font-family: monospace;background-color: #f0f8ff;border: 1px dotted black;border-radius: 0.25em;box-sizing: border-box;margin-bottom: 0.5em;}#sk-container-id-2 div.sk-estimator:hover {background-color: #d4ebff;}#sk-container-id-2 div.sk-parallel-item::after {content: \"\";width: 100%;border-bottom: 1px solid gray;flex-grow: 1;}#sk-container-id-2 div.sk-label:hover label.sk-toggleable__label {background-color: #d4ebff;}#sk-container-id-2 div.sk-serial::before {content: \"\";position: absolute;border-left: 1px solid gray;box-sizing: border-box;top: 0;bottom: 0;left: 50%;z-index: 0;}#sk-container-id-2 div.sk-serial {display: flex;flex-direction: column;align-items: center;background-color: white;padding-right: 0.2em;padding-left: 0.2em;position: relative;}#sk-container-id-2 div.sk-item {position: relative;z-index: 1;}#sk-container-id-2 div.sk-parallel {display: flex;align-items: stretch;justify-content: center;background-color: white;position: relative;}#sk-container-id-2 div.sk-item::before, #sk-container-id-2 div.sk-parallel-item::before {content: \"\";position: absolute;border-left: 1px solid gray;box-sizing: border-box;top: 0;bottom: 0;left: 50%;z-index: -1;}#sk-container-id-2 div.sk-parallel-item {display: flex;flex-direction: column;z-index: 1;position: relative;background-color: white;}#sk-container-id-2 div.sk-parallel-item:first-child::after {align-self: flex-end;width: 50%;}#sk-container-id-2 div.sk-parallel-item:last-child::after {align-self: flex-start;width: 50%;}#sk-container-id-2 div.sk-parallel-item:only-child::after {width: 0;}#sk-container-id-2 div.sk-dashed-wrapped {border: 1px dashed gray;margin: 0 0.4em 0.5em 0.4em;box-sizing: border-box;padding-bottom: 0.4em;background-color: white;}#sk-container-id-2 div.sk-label label {font-family: monospace;font-weight: bold;display: inline-block;line-height: 1.2em;}#sk-container-id-2 div.sk-label-container {text-align: center;}#sk-container-id-2 div.sk-container {/* jupyter's `normalize.less` sets `[hidden] { display: none; }` but bootstrap.min.css set `[hidden] { display: none !important; }` so we also need the `!important` here to be able to override the default hidden behavior on the sphinx rendered scikit-learn.org. See: https://github.com/scikit-learn/scikit-learn/issues/21755 */display: inline-block !important;position: relative;}#sk-container-id-2 div.sk-text-repr-fallback {display: none;}</style><div id=\"sk-container-id-2\" class=\"sk-top-container\"><div class=\"sk-text-repr-fallback\"><pre>MLPClassifier(max_iter=10000, random_state=42)</pre><b>In a Jupyter environment, please rerun this cell to show the HTML representation or trust the notebook. <br />On GitHub, the HTML representation is unable to render, please try loading this page with nbviewer.org.</b></div><div class=\"sk-container\" hidden><div class=\"sk-item\"><div class=\"sk-estimator sk-toggleable\"><input class=\"sk-toggleable__control sk-hidden--visually\" id=\"sk-estimator-id-2\" type=\"checkbox\" checked><label for=\"sk-estimator-id-2\" class=\"sk-toggleable__label sk-toggleable__label-arrow\">MLPClassifier</label><div class=\"sk-toggleable__content\"><pre>MLPClassifier(max_iter=10000, random_state=42)</pre></div></div></div></div></div>"
      ],
      "text/plain": [
       "MLPClassifier(max_iter=10000, random_state=42)"
      ]
     },
     "execution_count": 25,
     "metadata": {},
     "output_type": "execute_result"
    }
   ],
   "source": [
    "clf.fit(X_train, y_train)"
   ]
  },
  {
   "cell_type": "code",
   "execution_count": 26,
   "id": "c5f82eb5-9d20-49cf-ba0e-7c748750936b",
   "metadata": {},
   "outputs": [],
   "source": [
    "preds = clf.predict(X_test)"
   ]
  },
  {
   "cell_type": "code",
   "execution_count": 28,
   "id": "30a60264-9266-4ffb-90e7-99eee11833df",
   "metadata": {},
   "outputs": [
    {
     "data": {
      "text/plain": [
       "0.9444444444444444"
      ]
     },
     "execution_count": 28,
     "metadata": {},
     "output_type": "execute_result"
    }
   ],
   "source": [
    "acc = clf.score(X_test, y_test)\n",
    "acc"
   ]
  },
  {
   "cell_type": "code",
   "execution_count": 31,
   "id": "65b95c76-1728-402c-b81b-b96b6ff5d52b",
   "metadata": {},
   "outputs": [],
   "source": [
    "prec, rec, f1, _ = precision_recall_fscore_support(y_test, preds)"
   ]
  },
  {
   "cell_type": "code",
   "execution_count": 32,
   "id": "d7296b3b-2668-459c-a312-8d604daf5888",
   "metadata": {},
   "outputs": [
    {
     "data": {
      "text/plain": [
       "(array([0.96296296, 0.83333333, 0.94117647, 1.        ]),\n",
       " array([1.        , 0.71428571, 0.94117647, 1.        ]),\n",
       " array([0.98113208, 0.76923077, 0.94117647, 1.        ]),\n",
       " array([26,  7, 17,  4]))"
      ]
     },
     "execution_count": 32,
     "metadata": {},
     "output_type": "execute_result"
    }
   ],
   "source": [
    "prec, rec, f1, _"
   ]
  },
  {
   "cell_type": "code",
   "execution_count": null,
   "id": "1dbce7f6-0d9a-4247-955e-b44022cbe4a4",
   "metadata": {},
   "outputs": [],
   "source": [
    "import warnings\n",
    "warnings.filterwarnings(\"ignore\", category=UserWarning)\n",
    "\n",
    "import numpy as np\n",
    "import torch\n",
    "from sklearn.metrics import precision_recall_fscore_support\n",
    "from sklearn.neural_network import MLPClassifier\n",
    "from sklearn.linear_model import LogisticRegression\n",
    "from dino_experiments.util import get_embeddings, get_seeded_data_loader, Logger, AVAILABLE_DATASETS\n",
    "GLOBAL_SEED = 42\n",
    "RESIZE = True\n",
    "BATCH_SIZE = 16\n",
    "TEST_SAMPLE_SIZE = VAL_SAMPLE_SIZE = TRAIN_SAMPLE_SIZE = -1\n",
    "\n",
    "device = 'cuda' if torch.cuda.is_available() else 'cpu'\n",
    "dataset = 'fayoum'\n",
    "\n",
    "test_loader = get_seeded_data_loader(dataset, \"test\", GLOBAL_SEED, resize=RESIZE, batch_size=BATCH_SIZE)\n",
    "transformers = {'dino_vits8': torch.hub.load('facebookresearch/dino:main', 'dino_vits8', verbose=False)}\n",
    "transformer = list(transformers.values())[0]\n",
    "\n",
    "clf = MLPClassifier(random_state=GLOBAL_SEED, max_iter=10000)\n",
    "\n",
    "X_test, y_test = get_embeddings(transformer, test_loader, TEST_SAMPLE_SIZE, batch_size=BATCH_SIZE)\n",
    "\n",
    "train_loader = get_seeded_data_loader(dataset, \"train\", GLOBAL_SEED, batch_size=BATCH_SIZE, resize=RESIZE)\n",
    "X_train, y_train = get_embeddings(transformer, train_loader, TRAIN_SAMPLE_SIZE, batch_size=BATCH_SIZE)\n",
    "\n",
    "clf.fit(X_train, y_train)\n",
    "\n",
    "preds = clf.predict(X_test)\n",
    "\n",
    "acc = clf.score(X_test, y_test)\n",
    "acc\n",
    "\n",
    "prec, rec, f1, _ = precision_recall_fscore_support(y_test, preds)\n",
    "\n",
    "prec, rec, f1, _"
   ]
  },
  {
   "cell_type": "code",
   "execution_count": null,
   "id": "9d36836e-d385-4f26-8e3c-59aedd9cf86c",
   "metadata": {},
   "outputs": [],
   "source": []
  }
 ],
 "metadata": {
  "kernelspec": {
   "display_name": "Python 3 (ipykernel)",
   "language": "python",
   "name": "python3"
  },
  "language_info": {
   "codemirror_mode": {
    "name": "ipython",
    "version": 3
   },
   "file_extension": ".py",
   "mimetype": "text/x-python",
   "name": "python",
   "nbconvert_exporter": "python",
   "pygments_lexer": "ipython3",
   "version": "3.10.13"
  }
 },
 "nbformat": 4,
 "nbformat_minor": 5
}
